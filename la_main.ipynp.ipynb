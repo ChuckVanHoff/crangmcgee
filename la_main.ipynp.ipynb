{
 "cells": [
  {
   "cell_type": "code",
   "execution_count": 1,
   "metadata": {},
   "outputs": [
    {
     "ename": "ModuleNotFoundError",
     "evalue": "No module named 'moment'",
     "output_type": "error",
     "traceback": [
      "\u001b[1;31m---------------------------------------------------------------------------\u001b[0m",
      "\u001b[1;31mModuleNotFoundError\u001b[0m                       Traceback (most recent call last)",
      "\u001b[1;32m<ipython-input-1-3f8064970e2d>\u001b[0m in \u001b[0;36m<module>\u001b[1;34m()\u001b[0m\n\u001b[0;32m      9\u001b[0m \u001b[1;32mimport\u001b[0m \u001b[0mcsv\u001b[0m\u001b[1;33m\u001b[0m\u001b[0m\n\u001b[0;32m     10\u001b[0m \u001b[1;32mimport\u001b[0m \u001b[0mdatetime\u001b[0m\u001b[1;33m\u001b[0m\u001b[0m\n\u001b[1;32m---> 11\u001b[1;33m \u001b[1;32mimport\u001b[0m \u001b[0mmoment\u001b[0m\u001b[1;33m\u001b[0m\u001b[0m\n\u001b[0m\u001b[0;32m     12\u001b[0m \u001b[1;33m\u001b[0m\u001b[0m\n\u001b[0;32m     13\u001b[0m \u001b[1;31m# import api key\u001b[0m\u001b[1;33m\u001b[0m\u001b[1;33m\u001b[0m\u001b[0m\n",
      "\u001b[1;31mModuleNotFoundError\u001b[0m: No module named 'moment'"
     ]
    }
   ],
   "source": [
    "# Dependencies and Setup\n",
    "import matplotlib.pyplot as plt\n",
    "import pandas as pd\n",
    "import numpy as np\n",
    "import requests\n",
    "import time\n",
    "import json\n",
    "import os\n",
    "import csv\n",
    "import datetime\n",
    "import moment\n",
    "\n",
    "# import api key\n",
    "from config import api_key\n",
    "   \n",
    "# Weather URL\n",
    "#History weather bulk for Detroit from January 01, 2014 to December 31, 2018\n",
    "weather_url = \"http://history.openweathermap.org//storage/dc1e5df660e33aec203660c9b2000bc3.json\"\n",
    "\n",
    "\n",
    "\n",
    "# make request and store response\n",
    "response = requests.get(weather_url)\n",
    "\n",
    "# print status code\n",
    "print(response.status_code)\n"
   ]
  },
  {
   "cell_type": "code",
   "execution_count": null,
   "metadata": {},
   "outputs": [],
   "source": [
    "#JSONify response\n",
    "response_json = response.json()\n",
    "response_2_json = response_2.json()"
   ]
  },
  {
   "cell_type": "code",
   "execution_count": null,
   "metadata": {},
   "outputs": [],
   "source": [
    "# print first article\n",
    "print(f\"The first response is {json.dumps(response_json[0], indent=4)}.\")"
   ]
  },
  {
   "cell_type": "code",
   "execution_count": null,
   "metadata": {},
   "outputs": [],
   "source": [
    "# count of responses\n",
    "print(f\"We received {len(response_json)} responses.\")\n",
    "unixDict = {}\n",
    "i = 0\n",
    "for entry in response_json:\n",
    "    i = i + 1\n",
    "    if i > 50:\n",
    "        break\n",
    "    try:\n",
    "        unixDict[entry['dt']] = {\n",
    "            'temp_max': entry['main']['temp_max'],\n",
    "            'wind_speed': entry['wind']['speed'],\n",
    "            'weather_main': entry['weather'][0]['main']\n",
    "        }\n",
    "    except:\n",
    "        print(f'no data for {entry[\"dt\"]}')\n",
    "print(unixDict)"
   ]
  },
  {
   "cell_type": "code",
   "execution_count": null,
   "metadata": {},
   "outputs": [],
   "source": [
    "# reference to CSV file\n",
    "DET_csv = os.path.join(\"City Data\",\"Detroit\",\"detroit_data_fixed.csv\")\n",
    "\n",
    "with open(DET_csv, newline='') as csvfile:\n",
    "    csvreader = csv.reader(csvfile, delimiter=\",\")\n",
    "    print(csvreader)\n",
    "\n",
    "DET_crime_df = pd.read_csv(DET_csv)\n",
    "DET_crime_df.head()"
   ]
  },
  {
   "cell_type": "code",
   "execution_count": null,
   "metadata": {},
   "outputs": [],
   "source": [
    "DET_crime_df[\"Temp_Max\"] = \"\"\n",
    "DET_crime_df[\"Wind_Speed\"] = \"\"\n",
    "DET_crime_df[\"Weather_Type\"] = \"\"\n",
    "DET_crime_df.head()"
   ]
  }
 ],
 "metadata": {
  "kernelspec": {
   "display_name": "Python 3",
   "language": "python",
   "name": "python3"
  },
  "language_info": {
   "codemirror_mode": {
    "name": "ipython",
    "version": 3
   },
   "file_extension": ".py",
   "mimetype": "text/x-python",
   "name": "python",
   "nbconvert_exporter": "python",
   "pygments_lexer": "ipython3",
   "version": "3.7.0"
  }
 },
 "nbformat": 4,
 "nbformat_minor": 2
}
