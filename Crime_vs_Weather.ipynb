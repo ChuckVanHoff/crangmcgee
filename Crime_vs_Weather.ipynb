{
 "cells": [
  {
   "cell_type": "code",
   "execution_count": 22,
   "metadata": {},
   "outputs": [
    {
     "name": "stdout",
     "output_type": "stream",
     "text": [
      "806bc7f0fb6f563524db6e2e63505f98\n"
     ]
    }
   ],
   "source": [
    "# Dependencies\n",
    "import pandas as pd\n",
    "import numpy as np\n",
    "import requests\n",
    "import json\n",
    "import matplotlib.pyplot as plt\n",
    "import json\n",
    "\n",
    "# Import API key\n",
    "from configEnv import API_KEY\n",
    "print(API_KEY)"
   ]
  },
  {
   "cell_type": "code",
   "execution_count": 20,
   "metadata": {},
   "outputs": [
    {
     "name": "stdout",
     "output_type": "stream",
     "text": [
      "<Response [200]>\n"
     ]
    }
   ],
   "source": [
    "#url = \"http://api.openweathermap.org/data/2.5/weather?\"\n",
    "\n",
    "#url - \"https://api.solunar.org/solunar/latitude,longitude,date,tz\"\n",
    "#example - https://api.solunar.org/solunar/42.66,-84.07,20180207,-4\n",
    "#units = \"imperial\"\n",
    "#url_query = f\"{url}appid={api_key}&units={units}&q=\"\n",
    "\n",
    "HW_url = \"http://history.openweathermap.org//storage/dc1e5df660e33aec203660c9b2000bc3.json\"\n",
    "print(requests.get(HW_url))\n",
    "#print(requests.get(url).json())"
   ]
  },
  {
   "cell_type": "code",
   "execution_count": null,
   "metadata": {},
   "outputs": [],
   "source": [
    "#Tempature (NANDINI)\n",
    "#Precipitation (TBD)\n",
    "#length of day (TBD)\n",
    "\n"
   ]
  },
  {
   "cell_type": "code",
   "execution_count": null,
   "metadata": {},
   "outputs": [],
   "source": [
    "params = {\n",
    "    \"location\": target_coordinates,     \n",
    "    \"keyword\": target_search,     \n",
    "    \"radius\": target_radius,     \n",
    "    \"type\": target_type,     \n",
    "    \"key\": gkey } \n",
    " \n",
    "base url base_url = \"https://maps.googleapis.com/maps/api/place/nearbysearch/json\" \n",
    " \n",
    "run a request using our params dictionary \n",
    "response = requests.get(base_url, params=params"
   ]
  },
  {
   "cell_type": "code",
   "execution_count": null,
   "metadata": {},
   "outputs": [],
   "source": []
  },
  {
   "cell_type": "code",
   "execution_count": null,
   "metadata": {},
   "outputs": [],
   "source": []
  },
  {
   "cell_type": "code",
   "execution_count": null,
   "metadata": {},
   "outputs": [],
   "source": []
  },
  {
   "cell_type": "code",
   "execution_count": null,
   "metadata": {},
   "outputs": [],
   "source": []
  },
  {
   "cell_type": "code",
   "execution_count": null,
   "metadata": {},
   "outputs": [],
   "source": []
  }
 ],
 "metadata": {
  "kernelspec": {
   "display_name": "Python 3",
   "language": "python",
   "name": "python3"
  },
  "language_info": {
   "codemirror_mode": {
    "name": "ipython",
    "version": 3
   },
   "file_extension": ".py",
   "mimetype": "text/x-python",
   "name": "python",
   "nbconvert_exporter": "python",
   "pygments_lexer": "ipython3",
   "version": "3.6.6"
  }
 },
 "nbformat": 4,
 "nbformat_minor": 2
}
