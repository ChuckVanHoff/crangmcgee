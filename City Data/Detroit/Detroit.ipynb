{
 "cells": [
  {
   "cell_type": "code",
   "execution_count": 8,
   "metadata": {},
   "outputs": [
    {
     "name": "stderr",
     "output_type": "stream",
     "text": [
      "/Users/alex/anaconda3/lib/python3.6/site-packages/IPython/core/interactiveshell.py:3020: DtypeWarning: Columns (3) have mixed types. Specify dtype option on import or set low_memory=False.\n",
      "  interactivity=interactivity, compiler=compiler, result=result)\n"
     ]
    }
   ],
   "source": [
    "import datetime\n",
    "import pandas as pd\n",
    "df_detroit_full = pd.read_csv('https://query.data.world/s/afon5msowjjtjobbvtxin6y5cpkcoi')"
   ]
  },
  {
   "cell_type": "code",
   "execution_count": 9,
   "metadata": {},
   "outputs": [
    {
     "data": {
      "text/html": [
       "<div>\n",
       "<style scoped>\n",
       "    .dataframe tbody tr th:only-of-type {\n",
       "        vertical-align: middle;\n",
       "    }\n",
       "\n",
       "    .dataframe tbody tr th {\n",
       "        vertical-align: top;\n",
       "    }\n",
       "\n",
       "    .dataframe thead th {\n",
       "        text-align: right;\n",
       "    }\n",
       "</style>\n",
       "<table border=\"1\" class=\"dataframe\">\n",
       "  <thead>\n",
       "    <tr style=\"text-align: right;\">\n",
       "      <th></th>\n",
       "      <th>ROWNUM</th>\n",
       "      <th>CASEID</th>\n",
       "      <th>CRIMEID</th>\n",
       "      <th>CRNO</th>\n",
       "      <th>ADDRESS</th>\n",
       "      <th>CATEGORY</th>\n",
       "      <th>OFFENSEDESCRIPTION</th>\n",
       "      <th>STATEOFFENSEFILECLASS</th>\n",
       "      <th>INCIDENTDATE</th>\n",
       "      <th>HOUR</th>\n",
       "      <th>SCA</th>\n",
       "      <th>PRECINCT</th>\n",
       "      <th>COUNCIL</th>\n",
       "      <th>NEIGHBORHOOD</th>\n",
       "      <th>CENSUSTRACT</th>\n",
       "      <th>LON</th>\n",
       "      <th>LAT</th>\n",
       "      <th>LOCATION</th>\n",
       "    </tr>\n",
       "  </thead>\n",
       "  <tbody>\n",
       "    <tr>\n",
       "      <th>0</th>\n",
       "      <td>1</td>\n",
       "      <td>1099487</td>\n",
       "      <td>1321797</td>\n",
       "      <td>0910020373.1</td>\n",
       "      <td>18000 WEXFORD</td>\n",
       "      <td>MISCELLANEOUS</td>\n",
       "      <td>MISCELLANEOUS - GENERAL NON-CRIMINAL</td>\n",
       "      <td>99009.0</td>\n",
       "      <td>01/01/2009</td>\n",
       "      <td>0</td>\n",
       "      <td>1107.0</td>\n",
       "      <td>11.0</td>\n",
       "      <td>City Council District 3</td>\n",
       "      <td>CONANT GARDENS</td>\n",
       "      <td>5070.0</td>\n",
       "      <td>-83.0649</td>\n",
       "      <td>42.4261</td>\n",
       "      <td>WEXFORD\\n18000\\n(42.4263, -83.0652)</td>\n",
       "    </tr>\n",
       "    <tr>\n",
       "      <th>1</th>\n",
       "      <td>2</td>\n",
       "      <td>1117507</td>\n",
       "      <td>1344185</td>\n",
       "      <td>0911060289.1</td>\n",
       "      <td>00 UNKNOWN</td>\n",
       "      <td>MISCELLANEOUS</td>\n",
       "      <td>MISCELLANEOUS - GENERAL NON-CRIMINAL</td>\n",
       "      <td>99009.0</td>\n",
       "      <td>01/01/2009</td>\n",
       "      <td>0</td>\n",
       "      <td>NaN</td>\n",
       "      <td>NaN</td>\n",
       "      <td>NaN</td>\n",
       "      <td>NaN</td>\n",
       "      <td>9999999.0</td>\n",
       "      <td>999999.0001</td>\n",
       "      <td>999999.0000</td>\n",
       "      <td>00 UNKNOWN\\n(999999.0001, 999998.9999)</td>\n",
       "    </tr>\n",
       "    <tr>\n",
       "      <th>2</th>\n",
       "      <td>3</td>\n",
       "      <td>985415</td>\n",
       "      <td>1181882</td>\n",
       "      <td>0902190512.1</td>\n",
       "      <td>02000 CALVERT</td>\n",
       "      <td>MISCELLANEOUS</td>\n",
       "      <td>MISCELLANEOUS - ABANDONED VEHICLE</td>\n",
       "      <td>99009.0</td>\n",
       "      <td>01/01/2009</td>\n",
       "      <td>0</td>\n",
       "      <td>1005.0</td>\n",
       "      <td>10.0</td>\n",
       "      <td>City Council District 5</td>\n",
       "      <td>PECK</td>\n",
       "      <td>5313.0</td>\n",
       "      <td>-83.1058</td>\n",
       "      <td>42.3821</td>\n",
       "      <td>CALVERT\\n02000\\n(42.3821, -83.1056)</td>\n",
       "    </tr>\n",
       "    <tr>\n",
       "      <th>3</th>\n",
       "      <td>4</td>\n",
       "      <td>986019</td>\n",
       "      <td>1182632</td>\n",
       "      <td>0902200294.1</td>\n",
       "      <td>00 W GRAND BLVD AND W FORT</td>\n",
       "      <td>MISCELLANEOUS</td>\n",
       "      <td>MISCELLANEOUS - GENERAL NON-CRIMINAL</td>\n",
       "      <td>99009.0</td>\n",
       "      <td>01/01/2009</td>\n",
       "      <td>0</td>\n",
       "      <td>414.0</td>\n",
       "      <td>4.0</td>\n",
       "      <td>City Council District 6</td>\n",
       "      <td>HUBBARD-RICHARD</td>\n",
       "      <td>5211.0</td>\n",
       "      <td>-83.0830</td>\n",
       "      <td>42.3145</td>\n",
       "      <td>00 W GRAND BLVD AND W FORT\\n(42.3146, -83.0831)</td>\n",
       "    </tr>\n",
       "    <tr>\n",
       "      <th>4</th>\n",
       "      <td>5</td>\n",
       "      <td>996883</td>\n",
       "      <td>1195867</td>\n",
       "      <td>0903170149.1</td>\n",
       "      <td>12500 CONNER</td>\n",
       "      <td>LARCENY</td>\n",
       "      <td>LARCENY - FROM BUILDING (INCLUDES LIBRARY, OFF...</td>\n",
       "      <td>23003.0</td>\n",
       "      <td>01/01/2009</td>\n",
       "      <td>0</td>\n",
       "      <td>908.0</td>\n",
       "      <td>9.0</td>\n",
       "      <td>City Council District 3</td>\n",
       "      <td>BURBANK</td>\n",
       "      <td>5052.0</td>\n",
       "      <td>-83.0080</td>\n",
       "      <td>42.4134</td>\n",
       "      <td>CONNER\\n12500\\n(42.4134, -83.0079)</td>\n",
       "    </tr>\n",
       "  </tbody>\n",
       "</table>\n",
       "</div>"
      ],
      "text/plain": [
       "   ROWNUM   CASEID  CRIMEID          CRNO                     ADDRESS  \\\n",
       "0       1  1099487  1321797  0910020373.1               18000 WEXFORD   \n",
       "1       2  1117507  1344185  0911060289.1                  00 UNKNOWN   \n",
       "2       3   985415  1181882  0902190512.1               02000 CALVERT   \n",
       "3       4   986019  1182632  0902200294.1  00 W GRAND BLVD AND W FORT   \n",
       "4       5   996883  1195867  0903170149.1                12500 CONNER   \n",
       "\n",
       "        CATEGORY                                 OFFENSEDESCRIPTION  \\\n",
       "0  MISCELLANEOUS               MISCELLANEOUS - GENERAL NON-CRIMINAL   \n",
       "1  MISCELLANEOUS               MISCELLANEOUS - GENERAL NON-CRIMINAL   \n",
       "2  MISCELLANEOUS                  MISCELLANEOUS - ABANDONED VEHICLE   \n",
       "3  MISCELLANEOUS               MISCELLANEOUS - GENERAL NON-CRIMINAL   \n",
       "4        LARCENY  LARCENY - FROM BUILDING (INCLUDES LIBRARY, OFF...   \n",
       "\n",
       "   STATEOFFENSEFILECLASS INCIDENTDATE  HOUR     SCA  PRECINCT  \\\n",
       "0                99009.0   01/01/2009     0  1107.0      11.0   \n",
       "1                99009.0   01/01/2009     0     NaN       NaN   \n",
       "2                99009.0   01/01/2009     0  1005.0      10.0   \n",
       "3                99009.0   01/01/2009     0   414.0       4.0   \n",
       "4                23003.0   01/01/2009     0   908.0       9.0   \n",
       "\n",
       "                   COUNCIL     NEIGHBORHOOD  CENSUSTRACT          LON  \\\n",
       "0  City Council District 3   CONANT GARDENS       5070.0     -83.0649   \n",
       "1                      NaN              NaN    9999999.0  999999.0001   \n",
       "2  City Council District 5             PECK       5313.0     -83.1058   \n",
       "3  City Council District 6  HUBBARD-RICHARD       5211.0     -83.0830   \n",
       "4  City Council District 3          BURBANK       5052.0     -83.0080   \n",
       "\n",
       "           LAT                                         LOCATION  \n",
       "0      42.4261              WEXFORD\\n18000\\n(42.4263, -83.0652)  \n",
       "1  999999.0000           00 UNKNOWN\\n(999999.0001, 999998.9999)  \n",
       "2      42.3821              CALVERT\\n02000\\n(42.3821, -83.1056)  \n",
       "3      42.3145  00 W GRAND BLVD AND W FORT\\n(42.3146, -83.0831)  \n",
       "4      42.4134               CONNER\\n12500\\n(42.4134, -83.0079)  "
      ]
     },
     "execution_count": 9,
     "metadata": {},
     "output_type": "execute_result"
    }
   ],
   "source": [
    "df_detroit_full.head()\n"
   ]
  },
  {
   "cell_type": "code",
   "execution_count": 10,
   "metadata": {},
   "outputs": [],
   "source": [
    "#pull out columns we are interested in\n",
    "#reduced_df_detroit = df_detroit.loc[:, [\"CATEGORY\", \"OFFENSEDESCRIPTION\", \"INCIDENTDATE\", \"HOUR\", \"LON\", \"LAT\"]]\n",
    "#reduced_df_detroit"
   ]
  },
  {
   "cell_type": "code",
   "execution_count": 11,
   "metadata": {},
   "outputs": [],
   "source": [
    "#drop rows with null values\n",
    "#reduced_df_detroit.dropna()"
   ]
  },
  {
   "cell_type": "code",
   "execution_count": 12,
   "metadata": {},
   "outputs": [],
   "source": [
    "#trying to parce data to only include crime from 2014 and 2015\n",
    "detroit_14_df=reduced_df_detroit.loc[reduced_df_detroit[\"INCIDENTDATE\"].str.contains(\"2014\"), :]\n",
    "detroit_15_df=reduced_df_detroit.loc[reduced_df_detroit[\"INCIDENTDATE\"].str.contains(\"2015\"), :]"
   ]
  },
  {
   "cell_type": "code",
   "execution_count": null,
   "metadata": {},
   "outputs": [],
   "source": [
    "df_DET= pd.concat([detroit_14_df, detroit_15_df], ignore_index=True, sort=True)\n",
    "\n",
    "df_DET.head()"
   ]
  },
  {
   "cell_type": "code",
   "execution_count": null,
   "metadata": {},
   "outputs": [],
   "source": [
    "#combining latitude + longitude columns into one \"location\" column\n",
    "df_DET[\"Location\"] = '(' + df_DET[\"LAT\"].map(str) + ', ' + df_DET[\"LON\"].map(str) + ')'\n",
    "\n",
    "#same with offense\n",
    "df_DET[\"Offense\"] = df_DET[\"CATEGORY\"] + ': ' + df_DET[\"OFFENSEDESCRIPTION\"]\n",
    "df_DET.head()"
   ]
  },
  {
   "cell_type": "code",
   "execution_count": null,
   "metadata": {},
   "outputs": [],
   "source": [
    "#cleaning up Detroit df to only include necessary columns\n",
    "df_DET_edit = df_DET[[\"Location\", \"Offense\", \"INCIDENTDATE\"]]\n",
    "\n",
    "df_DET_edit.rename(columns={'INCIDENTDATE': 'Date'}, inplace=True)\n",
    "\n",
    "df_DET_edit.head()"
   ]
  },
  {
   "cell_type": "code",
   "execution_count": null,
   "metadata": {},
   "outputs": [],
   "source": [
    "#changing date format to UNIX\n",
    "detroit_14_15_df[\"Unix Date\"] = detroit_14_15_df[\"Date\"].map(lambda x:datetime.datetime.strptime(x, \"%m/%d/%Y\").timestamp())\n",
    "detroit_14_15_df['Unix Date'] = detroit_14_15_df['Unix Date'].apply('astype',dtype='int64')\n",
    "\n",
    "detroit_14_15_df.head()"
   ]
  },
  {
   "cell_type": "code",
   "execution_count": 7,
   "metadata": {},
   "outputs": [],
   "source": [
    "detroit_14_15_df.to_csv(\"detroit_data.csv\", index=False, header=True)\n"
   ]
  },
  {
   "cell_type": "code",
   "execution_count": null,
   "metadata": {},
   "outputs": [],
   "source": []
  }
 ],
 "metadata": {
  "kernelspec": {
   "display_name": "Python 3",
   "language": "python",
   "name": "python3"
  },
  "language_info": {
   "codemirror_mode": {
    "name": "ipython",
    "version": 3
   },
   "file_extension": ".py",
   "mimetype": "text/x-python",
   "name": "python",
   "nbconvert_exporter": "python",
   "pygments_lexer": "ipython3",
   "version": "3.6.6"
  }
 },
 "nbformat": 4,
 "nbformat_minor": 2
}
