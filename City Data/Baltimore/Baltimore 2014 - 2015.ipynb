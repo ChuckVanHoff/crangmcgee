{
 "cells": [
  {
   "cell_type": "code",
   "execution_count": 1,
   "metadata": {},
   "outputs": [],
   "source": [
    "import pandas as pd\n",
    "df = pd.read_csv(\"Baltimore_crime_data.csv\")"
   ]
  },
  {
   "cell_type": "code",
   "execution_count": 2,
   "metadata": {},
   "outputs": [
    {
     "data": {
      "text/html": [
       "<div>\n",
       "<style scoped>\n",
       "    .dataframe tbody tr th:only-of-type {\n",
       "        vertical-align: middle;\n",
       "    }\n",
       "\n",
       "    .dataframe tbody tr th {\n",
       "        vertical-align: top;\n",
       "    }\n",
       "\n",
       "    .dataframe thead th {\n",
       "        text-align: right;\n",
       "    }\n",
       "</style>\n",
       "<table border=\"1\" class=\"dataframe\">\n",
       "  <thead>\n",
       "    <tr style=\"text-align: right;\">\n",
       "      <th></th>\n",
       "      <th>CrimeCode</th>\n",
       "      <th>CrimeDate</th>\n",
       "      <th>CrimeTime</th>\n",
       "      <th>Description</th>\n",
       "      <th>District</th>\n",
       "      <th>Location</th>\n",
       "      <th>Location 1</th>\n",
       "      <th>Neighborhood</th>\n",
       "      <th>Post</th>\n",
       "      <th>Total Incidents</th>\n",
       "      <th>Weapon</th>\n",
       "    </tr>\n",
       "  </thead>\n",
       "  <tbody>\n",
       "    <tr>\n",
       "      <th>0</th>\n",
       "      <td>6E</td>\n",
       "      <td>12/31/2015</td>\n",
       "      <td>00:01:00</td>\n",
       "      <td>O</td>\n",
       "      <td>SOUTHERN</td>\n",
       "      <td>2600 NORTHSHIRE DR</td>\n",
       "      <td>(39.2572900000, -76.6440400000)</td>\n",
       "      <td>Lakeland</td>\n",
       "      <td>923.0</td>\n",
       "      <td>1</td>\n",
       "      <td>NaN</td>\n",
       "    </tr>\n",
       "    <tr>\n",
       "      <th>1</th>\n",
       "      <td>4E</td>\n",
       "      <td>12/31/2015</td>\n",
       "      <td>00:02:00</td>\n",
       "      <td>I</td>\n",
       "      <td>EASTERN</td>\n",
       "      <td>1300 N ELLWOOD AVE</td>\n",
       "      <td>(39.3064300000, -76.5737800000)</td>\n",
       "      <td>Berea</td>\n",
       "      <td>332.0</td>\n",
       "      <td>1</td>\n",
       "      <td>HANDS</td>\n",
       "    </tr>\n",
       "    <tr>\n",
       "      <th>2</th>\n",
       "      <td>5A</td>\n",
       "      <td>12/31/2015</td>\n",
       "      <td>01:00:00</td>\n",
       "      <td>I</td>\n",
       "      <td>SOUTHERN</td>\n",
       "      <td>1200 JAMES ST</td>\n",
       "      <td>(39.2821000000, -76.6354000000)</td>\n",
       "      <td>Washington Village/Pigtown</td>\n",
       "      <td>932.0</td>\n",
       "      <td>1</td>\n",
       "      <td>NaN</td>\n",
       "    </tr>\n",
       "    <tr>\n",
       "      <th>3</th>\n",
       "      <td>5A</td>\n",
       "      <td>12/31/2015</td>\n",
       "      <td>01:01:00</td>\n",
       "      <td>I</td>\n",
       "      <td>SOUTHWESTERN</td>\n",
       "      <td>0 N ELLAMONT ST</td>\n",
       "      <td>(39.2861000000, -76.6704700000)</td>\n",
       "      <td>Carroll-South Hilton</td>\n",
       "      <td>842.0</td>\n",
       "      <td>1</td>\n",
       "      <td>NaN</td>\n",
       "    </tr>\n",
       "    <tr>\n",
       "      <th>4</th>\n",
       "      <td>4C</td>\n",
       "      <td>12/31/2015</td>\n",
       "      <td>01:20:00</td>\n",
       "      <td>I</td>\n",
       "      <td>NORTHWESTERN</td>\n",
       "      <td>2500 VIOLET AVE</td>\n",
       "      <td>(39.3312800000, -76.6583700000)</td>\n",
       "      <td>Park Circle</td>\n",
       "      <td>612.0</td>\n",
       "      <td>1</td>\n",
       "      <td>OTHER</td>\n",
       "    </tr>\n",
       "  </tbody>\n",
       "</table>\n",
       "</div>"
      ],
      "text/plain": [
       "  CrimeCode   CrimeDate CrimeTime Description      District  \\\n",
       "0        6E  12/31/2015  00:01:00           O      SOUTHERN   \n",
       "1        4E  12/31/2015  00:02:00           I       EASTERN   \n",
       "2        5A  12/31/2015  01:00:00           I      SOUTHERN   \n",
       "3        5A  12/31/2015  01:01:00           I  SOUTHWESTERN   \n",
       "4        4C  12/31/2015  01:20:00           I  NORTHWESTERN   \n",
       "\n",
       "             Location                       Location 1  \\\n",
       "0  2600 NORTHSHIRE DR  (39.2572900000, -76.6440400000)   \n",
       "1  1300 N ELLWOOD AVE  (39.3064300000, -76.5737800000)   \n",
       "2       1200 JAMES ST  (39.2821000000, -76.6354000000)   \n",
       "3     0 N ELLAMONT ST  (39.2861000000, -76.6704700000)   \n",
       "4     2500 VIOLET AVE  (39.3312800000, -76.6583700000)   \n",
       "\n",
       "                 Neighborhood   Post  Total Incidents Weapon  \n",
       "0                    Lakeland  923.0                1    NaN  \n",
       "1                       Berea  332.0                1  HANDS  \n",
       "2  Washington Village/Pigtown  932.0                1    NaN  \n",
       "3        Carroll-South Hilton  842.0                1    NaN  \n",
       "4                 Park Circle  612.0                1  OTHER  "
      ]
     },
     "execution_count": 2,
     "metadata": {},
     "output_type": "execute_result"
    }
   ],
   "source": [
    "df.head()"
   ]
  },
  {
   "cell_type": "code",
   "execution_count": 3,
   "metadata": {},
   "outputs": [
    {
     "data": {
      "text/plain": [
       "CrimeCode          94669\n",
       "CrimeDate          94669\n",
       "CrimeTime          94669\n",
       "Description        93831\n",
       "District           94636\n",
       "Location           93991\n",
       "Location 1         93991\n",
       "Neighborhood       93969\n",
       "Post               94496\n",
       "Total Incidents    94669\n",
       "Weapon             31033\n",
       "dtype: int64"
      ]
     },
     "execution_count": 3,
     "metadata": {},
     "output_type": "execute_result"
    }
   ],
   "source": [
    "df.count()"
   ]
  },
  {
   "cell_type": "code",
   "execution_count": null,
   "metadata": {},
   "outputs": [],
   "source": []
  }
 ],
 "metadata": {
  "kernelspec": {
   "display_name": "Python 3",
   "language": "python",
   "name": "python3"
  },
  "language_info": {
   "codemirror_mode": {
    "name": "ipython",
    "version": 3
   },
   "file_extension": ".py",
   "mimetype": "text/x-python",
   "name": "python",
   "nbconvert_exporter": "python",
   "pygments_lexer": "ipython3",
   "version": "3.6.6"
  }
 },
 "nbformat": 4,
 "nbformat_minor": 2
}
