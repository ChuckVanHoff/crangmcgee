{
 "cells": [
  {
   "cell_type": "code",
   "execution_count": 1,
   "metadata": {},
   "outputs": [],
   "source": [
    "import pandas as pd\n",
    "df = pd.read_csv('https://query.data.world/s/qrhlfcole4u3ocjavgycmam6t5z4ww')"
   ]
  },
  {
   "cell_type": "code",
   "execution_count": 2,
   "metadata": {},
   "outputs": [
    {
     "data": {
      "text/html": [
       "<div>\n",
       "<style scoped>\n",
       "    .dataframe tbody tr th:only-of-type {\n",
       "        vertical-align: middle;\n",
       "    }\n",
       "\n",
       "    .dataframe tbody tr th {\n",
       "        vertical-align: top;\n",
       "    }\n",
       "\n",
       "    .dataframe thead th {\n",
       "        text-align: right;\n",
       "    }\n",
       "</style>\n",
       "<table border=\"1\" class=\"dataframe\">\n",
       "  <thead>\n",
       "    <tr style=\"text-align: right;\">\n",
       "      <th></th>\n",
       "      <th>CrimeDate</th>\n",
       "      <th>CrimeTime</th>\n",
       "      <th>CrimeCode</th>\n",
       "      <th>Location</th>\n",
       "      <th>Description</th>\n",
       "      <th>Weapon</th>\n",
       "      <th>Post</th>\n",
       "      <th>District</th>\n",
       "      <th>Neighborhood</th>\n",
       "      <th>Location 1</th>\n",
       "      <th>Total Incidents</th>\n",
       "    </tr>\n",
       "  </thead>\n",
       "  <tbody>\n",
       "    <tr>\n",
       "      <th>0</th>\n",
       "      <td>06/18/2016</td>\n",
       "      <td>00:33:00</td>\n",
       "      <td>4E</td>\n",
       "      <td>2700 CHESLEY AVE</td>\n",
       "      <td>I</td>\n",
       "      <td>HANDS</td>\n",
       "      <td>424.0</td>\n",
       "      <td>NORTHEASTERN</td>\n",
       "      <td>North Harford Road</td>\n",
       "      <td>(39.3679000000, -76.5555900000)</td>\n",
       "      <td>1</td>\n",
       "    </tr>\n",
       "    <tr>\n",
       "      <th>1</th>\n",
       "      <td>06/18/2016</td>\n",
       "      <td>00:39:00</td>\n",
       "      <td>4B</td>\n",
       "      <td>2700 FAIT AVE</td>\n",
       "      <td>O</td>\n",
       "      <td>KNIFE</td>\n",
       "      <td>232.0</td>\n",
       "      <td>SOUTHEASTERN</td>\n",
       "      <td>Canton</td>\n",
       "      <td>(39.2831500000, -76.5783400000)</td>\n",
       "      <td>1</td>\n",
       "    </tr>\n",
       "    <tr>\n",
       "      <th>2</th>\n",
       "      <td>06/18/2016</td>\n",
       "      <td>0015</td>\n",
       "      <td>9S</td>\n",
       "      <td>2400 CYLBURN AV</td>\n",
       "      <td>Outside</td>\n",
       "      <td>FIREARM</td>\n",
       "      <td>532.0</td>\n",
       "      <td>NORTHERN</td>\n",
       "      <td>Levindale</td>\n",
       "      <td>(39.3510400000, -76.6597600000)</td>\n",
       "      <td>1</td>\n",
       "    </tr>\n",
       "    <tr>\n",
       "      <th>3</th>\n",
       "      <td>06/18/2016</td>\n",
       "      <td>01:53:00</td>\n",
       "      <td>3AF</td>\n",
       "      <td>2300 ORLEANS ST</td>\n",
       "      <td>O</td>\n",
       "      <td>FIREARM</td>\n",
       "      <td>221.0</td>\n",
       "      <td>SOUTHEASTERN</td>\n",
       "      <td>McElderry Park</td>\n",
       "      <td>(39.2955600000, -76.5844600000)</td>\n",
       "      <td>1</td>\n",
       "    </tr>\n",
       "    <tr>\n",
       "      <th>4</th>\n",
       "      <td>06/18/2016</td>\n",
       "      <td>02:05:00</td>\n",
       "      <td>6C</td>\n",
       "      <td>800 N WOLFE ST</td>\n",
       "      <td>I</td>\n",
       "      <td>NaN</td>\n",
       "      <td>321.0</td>\n",
       "      <td>EASTERN</td>\n",
       "      <td>Middle East</td>\n",
       "      <td>(39.3002700000, -76.5909700000)</td>\n",
       "      <td>1</td>\n",
       "    </tr>\n",
       "  </tbody>\n",
       "</table>\n",
       "</div>"
      ],
      "text/plain": [
       "    CrimeDate CrimeTime CrimeCode          Location Description   Weapon  \\\n",
       "0  06/18/2016  00:33:00        4E  2700 CHESLEY AVE           I    HANDS   \n",
       "1  06/18/2016  00:39:00        4B     2700 FAIT AVE           O    KNIFE   \n",
       "2  06/18/2016      0015        9S   2400 CYLBURN AV     Outside  FIREARM   \n",
       "3  06/18/2016  01:53:00       3AF   2300 ORLEANS ST           O  FIREARM   \n",
       "4  06/18/2016  02:05:00        6C    800 N WOLFE ST           I      NaN   \n",
       "\n",
       "    Post      District        Neighborhood                       Location 1  \\\n",
       "0  424.0  NORTHEASTERN  North Harford Road  (39.3679000000, -76.5555900000)   \n",
       "1  232.0  SOUTHEASTERN              Canton  (39.2831500000, -76.5783400000)   \n",
       "2  532.0      NORTHERN           Levindale  (39.3510400000, -76.6597600000)   \n",
       "3  221.0  SOUTHEASTERN      McElderry Park  (39.2955600000, -76.5844600000)   \n",
       "4  321.0       EASTERN         Middle East  (39.3002700000, -76.5909700000)   \n",
       "\n",
       "   Total Incidents  \n",
       "0                1  \n",
       "1                1  \n",
       "2                1  \n",
       "3                1  \n",
       "4                1  "
      ]
     },
     "execution_count": 2,
     "metadata": {},
     "output_type": "execute_result"
    }
   ],
   "source": [
    "df.head()"
   ]
  },
  {
   "cell_type": "code",
   "execution_count": 3,
   "metadata": {},
   "outputs": [
    {
     "data": {
      "text/plain": [
       "CrimeDate          264496\n",
       "CrimeTime          264496\n",
       "CrimeCode          264496\n",
       "Location           262692\n",
       "Description        260445\n",
       "Weapon              89833\n",
       "Post               264286\n",
       "District           264435\n",
       "Neighborhood       262623\n",
       "Location 1         262694\n",
       "Total Incidents    264496\n",
       "dtype: int64"
      ]
     },
     "execution_count": 3,
     "metadata": {},
     "output_type": "execute_result"
    }
   ],
   "source": [
    "df.count()"
   ]
  },
  {
   "cell_type": "code",
   "execution_count": null,
   "metadata": {},
   "outputs": [],
   "source": []
  }
 ],
 "metadata": {
  "kernelspec": {
   "display_name": "Python 3",
   "language": "python",
   "name": "python3"
  },
  "language_info": {
   "codemirror_mode": {
    "name": "ipython",
    "version": 3
   },
   "file_extension": ".py",
   "mimetype": "text/x-python",
   "name": "python",
   "nbconvert_exporter": "python",
   "pygments_lexer": "ipython3",
   "version": "3.6.6"
  }
 },
 "nbformat": 4,
 "nbformat_minor": 2
}
