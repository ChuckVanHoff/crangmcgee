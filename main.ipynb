{
 "cells": [
  {
   "cell_type": "code",
   "execution_count": 1,
   "metadata": {},
   "outputs": [
    {
     "name": "stdout",
     "output_type": "stream",
     "text": [
      "200\n"
     ]
    }
   ],
   "source": [
    "# Dependencies and Setup\n",
    "import matplotlib.pyplot as plt\n",
    "import pandas as pd\n",
    "import numpy as np\n",
    "import requests\n",
    "import time\n",
    "import json\n",
    "import os\n",
    "import csv\n",
    "import datetime\n",
    "\n",
    "# Weather URL\n",
    "#History weather bulk for Detroit from January 01, 2014 to December 31, 2018\n",
    "weather_url = \"http://history.openweathermap.org//storage/dc1e5df660e33aec203660c9b2000bc3.json\"\n",
    "\n",
    "# make request and store response\n",
    "response = requests.get(weather_url)\n",
    "\n",
    "# print status code\n",
    "print(response.status_code)\n"
   ]
  },
  {
   "cell_type": "code",
   "execution_count": 2,
   "metadata": {},
   "outputs": [],
   "source": [
    "#JSONify response\n",
    "response_json = response.json()\n"
   ]
  },
  {
   "cell_type": "code",
   "execution_count": 3,
   "metadata": {},
   "outputs": [
    {
     "name": "stdout",
     "output_type": "stream",
     "text": [
      "The first response is {\n",
      "    \"city_id\": 4990729,\n",
      "    \"main\": {\n",
      "        \"temp\": 265.33,\n",
      "        \"temp_min\": 263.71,\n",
      "        \"temp_max\": 266.48,\n",
      "        \"pressure\": 1025,\n",
      "        \"humidity\": 61\n",
      "    },\n",
      "    \"wind\": {\n",
      "        \"speed\": 5,\n",
      "        \"deg\": 250\n",
      "    },\n",
      "    \"clouds\": {\n",
      "        \"all\": 90\n",
      "    },\n",
      "    \"weather\": [\n",
      "        {\n",
      "            \"id\": 804,\n",
      "            \"main\": \"Clouds\",\n",
      "            \"description\": \"overcast clouds\",\n",
      "            \"icon\": \"04\"\n",
      "        }\n",
      "    ],\n",
      "    \"dt\": 1388534400,\n",
      "    \"dt_iso\": \"2014-01-01 00:00:00 +0000 UTC\"\n",
      "}.\n"
     ]
    }
   ],
   "source": [
    "# print first article\n",
    "print(f\"The first response is {json.dumps(response_json[0], indent=4)}.\")"
   ]
  },
  {
   "cell_type": "code",
   "execution_count": 23,
   "metadata": {},
   "outputs": [
    {
     "name": "stdout",
     "output_type": "stream",
     "text": [
      "{'dt_iso': '2014-01-01 00:00:00 +0000 UTC', 'temp_max': 266.48, 'wind_speed': 5, 'weather_main': 'Clouds'}\n"
     ]
    }
   ],
   "source": [
    "unixDict = {}\n",
    "i = 0\n",
    "for entry in response_json:\n",
    "    i = i + 1\n",
    "    try:\n",
    "        unixDict[entry['dt']] = {\n",
    "            'dt_iso': entry['dt_iso'],\n",
    "            'temp_max': entry['main']['temp_max'],\n",
    "            'wind_speed': entry['wind']['speed'],\n",
    "            'weather_main': entry['weather'][0]['main']\n",
    "        }\n",
    "    except:\n",
    "        print(f'no data for {entry[\"dt\"]}')\n",
    "\n",
    "print(unixDict[1388534400])"
   ]
  },
  {
   "cell_type": "code",
   "execution_count": 6,
   "metadata": {
    "scrolled": true
   },
   "outputs": [
    {
     "data": {
      "text/html": [
       "<div>\n",
       "<style scoped>\n",
       "    .dataframe tbody tr th:only-of-type {\n",
       "        vertical-align: middle;\n",
       "    }\n",
       "\n",
       "    .dataframe tbody tr th {\n",
       "        vertical-align: top;\n",
       "    }\n",
       "\n",
       "    .dataframe thead th {\n",
       "        text-align: right;\n",
       "    }\n",
       "</style>\n",
       "<table border=\"1\" class=\"dataframe\">\n",
       "  <thead>\n",
       "    <tr style=\"text-align: right;\">\n",
       "      <th></th>\n",
       "      <th>Location</th>\n",
       "      <th>Offense</th>\n",
       "      <th>Date</th>\n",
       "      <th>Unix Date</th>\n",
       "    </tr>\n",
       "  </thead>\n",
       "  <tbody>\n",
       "    <tr>\n",
       "      <th>0</th>\n",
       "      <td>(42.4224, -82.986)</td>\n",
       "      <td>LARCENY: LARCENY (OTHER)</td>\n",
       "      <td>01/02/2014</td>\n",
       "      <td>1388638800</td>\n",
       "    </tr>\n",
       "    <tr>\n",
       "      <th>1</th>\n",
       "      <td>(42.386, -83.2736)</td>\n",
       "      <td>ESCAPE: FUGITIVE</td>\n",
       "      <td>01/03/2014</td>\n",
       "      <td>1388725200</td>\n",
       "    </tr>\n",
       "    <tr>\n",
       "      <th>2</th>\n",
       "      <td>(42.4424, -83.0719)</td>\n",
       "      <td>ASSAULT: INTIMIDATION</td>\n",
       "      <td>01/04/2014</td>\n",
       "      <td>1388811600</td>\n",
       "    </tr>\n",
       "    <tr>\n",
       "      <th>3</th>\n",
       "      <td>(42.3373, -83.1961)</td>\n",
       "      <td>LARCENY: LARCENY (OTHER)</td>\n",
       "      <td>01/04/2014</td>\n",
       "      <td>1388811600</td>\n",
       "    </tr>\n",
       "    <tr>\n",
       "      <th>4</th>\n",
       "      <td>(42.3314, -83.1239)</td>\n",
       "      <td>LARCENY: LARCENY (OTHER)</td>\n",
       "      <td>01/06/2014</td>\n",
       "      <td>1388984400</td>\n",
       "    </tr>\n",
       "  </tbody>\n",
       "</table>\n",
       "</div>"
      ],
      "text/plain": [
       "              Location                   Offense        Date   Unix Date\n",
       "0   (42.4224, -82.986)  LARCENY: LARCENY (OTHER)  01/02/2014  1388638800\n",
       "1   (42.386, -83.2736)          ESCAPE: FUGITIVE  01/03/2014  1388725200\n",
       "2  (42.4424, -83.0719)     ASSAULT: INTIMIDATION  01/04/2014  1388811600\n",
       "3  (42.3373, -83.1961)  LARCENY: LARCENY (OTHER)  01/04/2014  1388811600\n",
       "4  (42.3314, -83.1239)  LARCENY: LARCENY (OTHER)  01/06/2014  1388984400"
      ]
     },
     "execution_count": 6,
     "metadata": {},
     "output_type": "execute_result"
    }
   ],
   "source": [
    "# reference to CSV file\n",
    "DET_csv = os.path.join(\"City Data\",\"Detroit\",\"detroit_data_fixed.csv\")\n",
    "\n",
    "with open(DET_csv, newline='') as csvfile:\n",
    "    csvreader = csv.reader(csvfile, delimiter=\",\")\n",
    "\n",
    "DET_crime_df = pd.read_csv(DET_csv)\n",
    "DET_crime_df.head()\n"
   ]
  },
  {
   "cell_type": "code",
   "execution_count": 24,
   "metadata": {},
   "outputs": [
    {
     "data": {
      "text/html": [
       "<div>\n",
       "<style scoped>\n",
       "    .dataframe tbody tr th:only-of-type {\n",
       "        vertical-align: middle;\n",
       "    }\n",
       "\n",
       "    .dataframe tbody tr th {\n",
       "        vertical-align: top;\n",
       "    }\n",
       "\n",
       "    .dataframe thead th {\n",
       "        text-align: right;\n",
       "    }\n",
       "</style>\n",
       "<table border=\"1\" class=\"dataframe\">\n",
       "  <thead>\n",
       "    <tr style=\"text-align: right;\">\n",
       "      <th></th>\n",
       "      <th>Location</th>\n",
       "      <th>Offense</th>\n",
       "      <th>Date</th>\n",
       "      <th>Unix Date</th>\n",
       "      <th>Temp_Max</th>\n",
       "      <th>Wind_Speed</th>\n",
       "      <th>Weather_Type</th>\n",
       "      <th>UTC_Date</th>\n",
       "    </tr>\n",
       "  </thead>\n",
       "  <tbody>\n",
       "    <tr>\n",
       "      <th>0</th>\n",
       "      <td>(42.4224, -82.986)</td>\n",
       "      <td>LARCENY: LARCENY (OTHER)</td>\n",
       "      <td>01/02/2014</td>\n",
       "      <td>1388638800</td>\n",
       "      <td></td>\n",
       "      <td></td>\n",
       "      <td></td>\n",
       "      <td></td>\n",
       "    </tr>\n",
       "    <tr>\n",
       "      <th>1</th>\n",
       "      <td>(42.386, -83.2736)</td>\n",
       "      <td>ESCAPE: FUGITIVE</td>\n",
       "      <td>01/03/2014</td>\n",
       "      <td>1388725200</td>\n",
       "      <td></td>\n",
       "      <td></td>\n",
       "      <td></td>\n",
       "      <td></td>\n",
       "    </tr>\n",
       "    <tr>\n",
       "      <th>2</th>\n",
       "      <td>(42.4424, -83.0719)</td>\n",
       "      <td>ASSAULT: INTIMIDATION</td>\n",
       "      <td>01/04/2014</td>\n",
       "      <td>1388811600</td>\n",
       "      <td></td>\n",
       "      <td></td>\n",
       "      <td></td>\n",
       "      <td></td>\n",
       "    </tr>\n",
       "    <tr>\n",
       "      <th>3</th>\n",
       "      <td>(42.3373, -83.1961)</td>\n",
       "      <td>LARCENY: LARCENY (OTHER)</td>\n",
       "      <td>01/04/2014</td>\n",
       "      <td>1388811600</td>\n",
       "      <td></td>\n",
       "      <td></td>\n",
       "      <td></td>\n",
       "      <td></td>\n",
       "    </tr>\n",
       "    <tr>\n",
       "      <th>4</th>\n",
       "      <td>(42.3314, -83.1239)</td>\n",
       "      <td>LARCENY: LARCENY (OTHER)</td>\n",
       "      <td>01/06/2014</td>\n",
       "      <td>1388984400</td>\n",
       "      <td></td>\n",
       "      <td></td>\n",
       "      <td></td>\n",
       "      <td></td>\n",
       "    </tr>\n",
       "  </tbody>\n",
       "</table>\n",
       "</div>"
      ],
      "text/plain": [
       "              Location                   Offense        Date   Unix Date  \\\n",
       "0   (42.4224, -82.986)  LARCENY: LARCENY (OTHER)  01/02/2014  1388638800   \n",
       "1   (42.386, -83.2736)          ESCAPE: FUGITIVE  01/03/2014  1388725200   \n",
       "2  (42.4424, -83.0719)     ASSAULT: INTIMIDATION  01/04/2014  1388811600   \n",
       "3  (42.3373, -83.1961)  LARCENY: LARCENY (OTHER)  01/04/2014  1388811600   \n",
       "4  (42.3314, -83.1239)  LARCENY: LARCENY (OTHER)  01/06/2014  1388984400   \n",
       "\n",
       "  Temp_Max Wind_Speed Weather_Type UTC_Date  \n",
       "0                                            \n",
       "1                                            \n",
       "2                                            \n",
       "3                                            \n",
       "4                                            "
      ]
     },
     "execution_count": 24,
     "metadata": {},
     "output_type": "execute_result"
    }
   ],
   "source": [
    "DET_crime_df[\"UTC_Date\"] = \"\"\n",
    "DET_crime_df[\"Temp_Max\"] = \"\"\n",
    "DET_crime_df[\"Wind_Speed\"] = \"\"\n",
    "DET_crime_df[\"Weather_Type\"] = \"\"\n",
    "DET_crime_df.head()"
   ]
  },
  {
   "cell_type": "code",
   "execution_count": 8,
   "metadata": {
    "scrolled": true
   },
   "outputs": [],
   "source": [
    "# Use unix date to identify weather\n",
    "\n",
    "def getWeather(t,val):\n",
    "    try:\n",
    "        return unixDict[t['Unix Date']][val]\n",
    "    except:\n",
    "        return 'N/A'\n",
    "\n",
    "DET_crime_df['Temp_Max'] = DET_crime_df.apply(lambda row: getWeather(row,'temp_max'),axis=1)\n",
    "DET_crime_df['Wind_Speed'] = DET_crime_df.apply(lambda row: getWeather(row, 'wind_speed'),axis=1)\n",
    "DET_crime_df['Weather_Type'] = DET_crime_df.apply(lambda row: getWeather(row, 'weather_main'),axis=1)\n"
   ]
  },
  {
   "cell_type": "code",
   "execution_count": 9,
   "metadata": {},
   "outputs": [
    {
     "data": {
      "text/html": [
       "<div>\n",
       "<style scoped>\n",
       "    .dataframe tbody tr th:only-of-type {\n",
       "        vertical-align: middle;\n",
       "    }\n",
       "\n",
       "    .dataframe tbody tr th {\n",
       "        vertical-align: top;\n",
       "    }\n",
       "\n",
       "    .dataframe thead th {\n",
       "        text-align: right;\n",
       "    }\n",
       "</style>\n",
       "<table border=\"1\" class=\"dataframe\">\n",
       "  <thead>\n",
       "    <tr style=\"text-align: right;\">\n",
       "      <th></th>\n",
       "      <th>Location</th>\n",
       "      <th>Offense</th>\n",
       "      <th>Date</th>\n",
       "      <th>Unix Date</th>\n",
       "      <th>Temp_Max</th>\n",
       "      <th>Wind_Speed</th>\n",
       "      <th>Weather_Type</th>\n",
       "    </tr>\n",
       "  </thead>\n",
       "  <tbody>\n",
       "    <tr>\n",
       "      <th>0</th>\n",
       "      <td>(42.4224, -82.986)</td>\n",
       "      <td>LARCENY: LARCENY (OTHER)</td>\n",
       "      <td>01/02/2014</td>\n",
       "      <td>1388638800</td>\n",
       "      <td>284.618</td>\n",
       "      <td>4</td>\n",
       "      <td>Clouds</td>\n",
       "    </tr>\n",
       "    <tr>\n",
       "      <th>1</th>\n",
       "      <td>(42.386, -83.2736)</td>\n",
       "      <td>ESCAPE: FUGITIVE</td>\n",
       "      <td>01/03/2014</td>\n",
       "      <td>1388725200</td>\n",
       "      <td>259.15</td>\n",
       "      <td>5</td>\n",
       "      <td>Clouds</td>\n",
       "    </tr>\n",
       "    <tr>\n",
       "      <th>2</th>\n",
       "      <td>(42.4424, -83.0719)</td>\n",
       "      <td>ASSAULT: INTIMIDATION</td>\n",
       "      <td>01/04/2014</td>\n",
       "      <td>1388811600</td>\n",
       "      <td>263.15</td>\n",
       "      <td>1</td>\n",
       "      <td>Haze</td>\n",
       "    </tr>\n",
       "    <tr>\n",
       "      <th>3</th>\n",
       "      <td>(42.3373, -83.1961)</td>\n",
       "      <td>LARCENY: LARCENY (OTHER)</td>\n",
       "      <td>01/04/2014</td>\n",
       "      <td>1388811600</td>\n",
       "      <td>263.15</td>\n",
       "      <td>1</td>\n",
       "      <td>Haze</td>\n",
       "    </tr>\n",
       "    <tr>\n",
       "      <th>4</th>\n",
       "      <td>(42.3314, -83.1239)</td>\n",
       "      <td>LARCENY: LARCENY (OTHER)</td>\n",
       "      <td>01/06/2014</td>\n",
       "      <td>1388984400</td>\n",
       "      <td>270.15</td>\n",
       "      <td>4</td>\n",
       "      <td>Rain</td>\n",
       "    </tr>\n",
       "  </tbody>\n",
       "</table>\n",
       "</div>"
      ],
      "text/plain": [
       "              Location                   Offense        Date   Unix Date  \\\n",
       "0   (42.4224, -82.986)  LARCENY: LARCENY (OTHER)  01/02/2014  1388638800   \n",
       "1   (42.386, -83.2736)          ESCAPE: FUGITIVE  01/03/2014  1388725200   \n",
       "2  (42.4424, -83.0719)     ASSAULT: INTIMIDATION  01/04/2014  1388811600   \n",
       "3  (42.3373, -83.1961)  LARCENY: LARCENY (OTHER)  01/04/2014  1388811600   \n",
       "4  (42.3314, -83.1239)  LARCENY: LARCENY (OTHER)  01/06/2014  1388984400   \n",
       "\n",
       "  Temp_Max Wind_Speed Weather_Type  \n",
       "0  284.618          4       Clouds  \n",
       "1   259.15          5       Clouds  \n",
       "2   263.15          1         Haze  \n",
       "3   263.15          1         Haze  \n",
       "4   270.15          4         Rain  "
      ]
     },
     "execution_count": 9,
     "metadata": {},
     "output_type": "execute_result"
    }
   ],
   "source": [
    "weather_df = DET_crime_df.loc[DET_crime_df['Temp_Max'] != 'N/A']\n",
    "weather_df.head()"
   ]
  },
  {
   "cell_type": "code",
   "execution_count": 10,
   "metadata": {},
   "outputs": [
    {
     "name": "stderr",
     "output_type": "stream",
     "text": [
      "/Users/brianvanhoff/anaconda3/envs/PythonData/lib/python3.6/site-packages/ipykernel_launcher.py:5: SettingWithCopyWarning: \n",
      "A value is trying to be set on a copy of a slice from a DataFrame.\n",
      "Try using .loc[row_indexer,col_indexer] = value instead\n",
      "\n",
      "See the caveats in the documentation: http://pandas.pydata.org/pandas-docs/stable/indexing.html#indexing-view-versus-copy\n",
      "  \"\"\"\n",
      "/Users/brianvanhoff/anaconda3/envs/PythonData/lib/python3.6/site-packages/ipykernel_launcher.py:8: SettingWithCopyWarning: \n",
      "A value is trying to be set on a copy of a slice from a DataFrame.\n",
      "Try using .loc[row_indexer,col_indexer] = value instead\n",
      "\n",
      "See the caveats in the documentation: http://pandas.pydata.org/pandas-docs/stable/indexing.html#indexing-view-versus-copy\n",
      "  \n",
      "/Users/brianvanhoff/anaconda3/envs/PythonData/lib/python3.6/site-packages/pandas/core/frame.py:3697: SettingWithCopyWarning: \n",
      "A value is trying to be set on a copy of a slice from a DataFrame\n",
      "\n",
      "See the caveats in the documentation: http://pandas.pydata.org/pandas-docs/stable/indexing.html#indexing-view-versus-copy\n",
      "  errors=errors)\n"
     ]
    },
    {
     "data": {
      "text/html": [
       "<div>\n",
       "<style scoped>\n",
       "    .dataframe tbody tr th:only-of-type {\n",
       "        vertical-align: middle;\n",
       "    }\n",
       "\n",
       "    .dataframe tbody tr th {\n",
       "        vertical-align: top;\n",
       "    }\n",
       "\n",
       "    .dataframe thead th {\n",
       "        text-align: right;\n",
       "    }\n",
       "</style>\n",
       "<table border=\"1\" class=\"dataframe\">\n",
       "  <thead>\n",
       "    <tr style=\"text-align: right;\">\n",
       "      <th></th>\n",
       "      <th>Location</th>\n",
       "      <th>Date</th>\n",
       "      <th>Unix Date</th>\n",
       "      <th>Temp_Max</th>\n",
       "      <th>Wind_Speed</th>\n",
       "      <th>Weather_Type</th>\n",
       "      <th>Offense Main</th>\n",
       "      <th>Offense Sub</th>\n",
       "    </tr>\n",
       "  </thead>\n",
       "  <tbody>\n",
       "    <tr>\n",
       "      <th>0</th>\n",
       "      <td>(42.4224, -82.986)</td>\n",
       "      <td>01/02/2014</td>\n",
       "      <td>1388638800</td>\n",
       "      <td>284.618</td>\n",
       "      <td>4</td>\n",
       "      <td>Clouds</td>\n",
       "      <td>LARCENY</td>\n",
       "      <td>LARCENY (OTHER)</td>\n",
       "    </tr>\n",
       "    <tr>\n",
       "      <th>1</th>\n",
       "      <td>(42.386, -83.2736)</td>\n",
       "      <td>01/03/2014</td>\n",
       "      <td>1388725200</td>\n",
       "      <td>259.15</td>\n",
       "      <td>5</td>\n",
       "      <td>Clouds</td>\n",
       "      <td>ESCAPE</td>\n",
       "      <td>FUGITIVE</td>\n",
       "    </tr>\n",
       "    <tr>\n",
       "      <th>2</th>\n",
       "      <td>(42.4424, -83.0719)</td>\n",
       "      <td>01/04/2014</td>\n",
       "      <td>1388811600</td>\n",
       "      <td>263.15</td>\n",
       "      <td>1</td>\n",
       "      <td>Haze</td>\n",
       "      <td>ASSAULT</td>\n",
       "      <td>INTIMIDATION</td>\n",
       "    </tr>\n",
       "    <tr>\n",
       "      <th>3</th>\n",
       "      <td>(42.3373, -83.1961)</td>\n",
       "      <td>01/04/2014</td>\n",
       "      <td>1388811600</td>\n",
       "      <td>263.15</td>\n",
       "      <td>1</td>\n",
       "      <td>Haze</td>\n",
       "      <td>LARCENY</td>\n",
       "      <td>LARCENY (OTHER)</td>\n",
       "    </tr>\n",
       "    <tr>\n",
       "      <th>4</th>\n",
       "      <td>(42.3314, -83.1239)</td>\n",
       "      <td>01/06/2014</td>\n",
       "      <td>1388984400</td>\n",
       "      <td>270.15</td>\n",
       "      <td>4</td>\n",
       "      <td>Rain</td>\n",
       "      <td>LARCENY</td>\n",
       "      <td>LARCENY (OTHER)</td>\n",
       "    </tr>\n",
       "  </tbody>\n",
       "</table>\n",
       "</div>"
      ],
      "text/plain": [
       "              Location        Date   Unix Date Temp_Max Wind_Speed  \\\n",
       "0   (42.4224, -82.986)  01/02/2014  1388638800  284.618          4   \n",
       "1   (42.386, -83.2736)  01/03/2014  1388725200   259.15          5   \n",
       "2  (42.4424, -83.0719)  01/04/2014  1388811600   263.15          1   \n",
       "3  (42.3373, -83.1961)  01/04/2014  1388811600   263.15          1   \n",
       "4  (42.3314, -83.1239)  01/06/2014  1388984400   270.15          4   \n",
       "\n",
       "  Weather_Type Offense Main       Offense Sub  \n",
       "0       Clouds      LARCENY   LARCENY (OTHER)  \n",
       "1       Clouds       ESCAPE          FUGITIVE  \n",
       "2         Haze      ASSAULT      INTIMIDATION  \n",
       "3         Haze      LARCENY   LARCENY (OTHER)  \n",
       "4         Rain      LARCENY   LARCENY (OTHER)  "
      ]
     },
     "execution_count": 10,
     "metadata": {},
     "output_type": "execute_result"
    }
   ],
   "source": [
    "#new data frame with split value columns \n",
    "new_weather_df = weather_df[\"Offense\"].str.split(\":\", n = 1, expand = True) \n",
    "  \n",
    "# making seperate first name column from new data frame \n",
    "weather_df[\"Offense Main\"]= new_weather_df[0] \n",
    "  \n",
    "# making seperate last name column from new data frame \n",
    "weather_df[\"Offense Sub\"]= new_weather_df[1] \n",
    "  \n",
    "# Dropping old Name columns \n",
    "weather_df.drop(columns =[\"Offense\"], inplace = True) \n",
    "  \n",
    "# df display \n",
    "weather_df.head()"
   ]
  },
  {
   "cell_type": "code",
   "execution_count": 11,
   "metadata": {},
   "outputs": [
    {
     "name": "stderr",
     "output_type": "stream",
     "text": [
      "/Users/brianvanhoff/anaconda3/envs/PythonData/lib/python3.6/site-packages/ipykernel_launcher.py:2: SettingWithCopyWarning: \n",
      "A value is trying to be set on a copy of a slice from a DataFrame.\n",
      "Try using .loc[row_indexer,col_indexer] = value instead\n",
      "\n",
      "See the caveats in the documentation: http://pandas.pydata.org/pandas-docs/stable/indexing.html#indexing-view-versus-copy\n",
      "  \n"
     ]
    },
    {
     "data": {
      "text/html": [
       "<div>\n",
       "<style scoped>\n",
       "    .dataframe tbody tr th:only-of-type {\n",
       "        vertical-align: middle;\n",
       "    }\n",
       "\n",
       "    .dataframe tbody tr th {\n",
       "        vertical-align: top;\n",
       "    }\n",
       "\n",
       "    .dataframe thead th {\n",
       "        text-align: right;\n",
       "    }\n",
       "</style>\n",
       "<table border=\"1\" class=\"dataframe\">\n",
       "  <thead>\n",
       "    <tr style=\"text-align: right;\">\n",
       "      <th></th>\n",
       "      <th>Location</th>\n",
       "      <th>Date</th>\n",
       "      <th>Unix Date</th>\n",
       "      <th>Temp_Max</th>\n",
       "      <th>Wind_Speed</th>\n",
       "      <th>Weather_Type</th>\n",
       "      <th>Offense Main</th>\n",
       "      <th>Offense Sub</th>\n",
       "      <th>Temp_Max_Fahrenheit</th>\n",
       "    </tr>\n",
       "  </thead>\n",
       "  <tbody>\n",
       "    <tr>\n",
       "      <th>0</th>\n",
       "      <td>(42.4224, -82.986)</td>\n",
       "      <td>01/02/2014</td>\n",
       "      <td>1388638800</td>\n",
       "      <td>284.618</td>\n",
       "      <td>4</td>\n",
       "      <td>Clouds</td>\n",
       "      <td>LARCENY</td>\n",
       "      <td>LARCENY (OTHER)</td>\n",
       "      <td>52.6424</td>\n",
       "    </tr>\n",
       "    <tr>\n",
       "      <th>1</th>\n",
       "      <td>(42.386, -83.2736)</td>\n",
       "      <td>01/03/2014</td>\n",
       "      <td>1388725200</td>\n",
       "      <td>259.15</td>\n",
       "      <td>5</td>\n",
       "      <td>Clouds</td>\n",
       "      <td>ESCAPE</td>\n",
       "      <td>FUGITIVE</td>\n",
       "      <td>6.8</td>\n",
       "    </tr>\n",
       "    <tr>\n",
       "      <th>2</th>\n",
       "      <td>(42.4424, -83.0719)</td>\n",
       "      <td>01/04/2014</td>\n",
       "      <td>1388811600</td>\n",
       "      <td>263.15</td>\n",
       "      <td>1</td>\n",
       "      <td>Haze</td>\n",
       "      <td>ASSAULT</td>\n",
       "      <td>INTIMIDATION</td>\n",
       "      <td>14</td>\n",
       "    </tr>\n",
       "    <tr>\n",
       "      <th>3</th>\n",
       "      <td>(42.3373, -83.1961)</td>\n",
       "      <td>01/04/2014</td>\n",
       "      <td>1388811600</td>\n",
       "      <td>263.15</td>\n",
       "      <td>1</td>\n",
       "      <td>Haze</td>\n",
       "      <td>LARCENY</td>\n",
       "      <td>LARCENY (OTHER)</td>\n",
       "      <td>14</td>\n",
       "    </tr>\n",
       "    <tr>\n",
       "      <th>4</th>\n",
       "      <td>(42.3314, -83.1239)</td>\n",
       "      <td>01/06/2014</td>\n",
       "      <td>1388984400</td>\n",
       "      <td>270.15</td>\n",
       "      <td>4</td>\n",
       "      <td>Rain</td>\n",
       "      <td>LARCENY</td>\n",
       "      <td>LARCENY (OTHER)</td>\n",
       "      <td>26.6</td>\n",
       "    </tr>\n",
       "  </tbody>\n",
       "</table>\n",
       "</div>"
      ],
      "text/plain": [
       "              Location        Date   Unix Date Temp_Max Wind_Speed  \\\n",
       "0   (42.4224, -82.986)  01/02/2014  1388638800  284.618          4   \n",
       "1   (42.386, -83.2736)  01/03/2014  1388725200   259.15          5   \n",
       "2  (42.4424, -83.0719)  01/04/2014  1388811600   263.15          1   \n",
       "3  (42.3373, -83.1961)  01/04/2014  1388811600   263.15          1   \n",
       "4  (42.3314, -83.1239)  01/06/2014  1388984400   270.15          4   \n",
       "\n",
       "  Weather_Type Offense Main       Offense Sub Temp_Max_Fahrenheit  \n",
       "0       Clouds      LARCENY   LARCENY (OTHER)             52.6424  \n",
       "1       Clouds       ESCAPE          FUGITIVE                 6.8  \n",
       "2         Haze      ASSAULT      INTIMIDATION                  14  \n",
       "3         Haze      LARCENY   LARCENY (OTHER)                  14  \n",
       "4         Rain      LARCENY   LARCENY (OTHER)                26.6  "
      ]
     },
     "execution_count": 11,
     "metadata": {},
     "output_type": "execute_result"
    }
   ],
   "source": [
    "#convert temp from Kelvins to Farenheit\n",
    "weather_df[\"Temp_Max_Fahrenheit\"] = (weather_df[\"Temp_Max\"] - 273.15) * 9/5 + 32\n",
    "weather_df.head()\n",
    "\n"
   ]
  },
  {
   "cell_type": "code",
   "execution_count": 12,
   "metadata": {},
   "outputs": [
    {
     "data": {
      "text/plain": [
       "Offense Main\n",
       "AGGRAVATED ASSAULT     8789\n",
       "ARSON                   818\n",
       "ASSAULT               17572\n",
       "BRIBERY                   3\n",
       "BURGLARY               9841\n",
       "Name: Offense Main, dtype: int64"
      ]
     },
     "execution_count": 12,
     "metadata": {},
     "output_type": "execute_result"
    }
   ],
   "source": [
    "maker_group = weather_df.groupby('Offense Main')\n",
    "\n",
    "# Count how many times each maker appears in our group\n",
    "count_makers = maker_group['Offense Main'].count()\n",
    "\n",
    "count_makers.head()\n"
   ]
  },
  {
   "cell_type": "code",
   "execution_count": 13,
   "metadata": {
    "scrolled": true
   },
   "outputs": [
    {
     "data": {
      "image/png": "[encoded data removed]",
      "text/plain": [
       "<Figure size 1440x360 with 1 Axes>"
      ]
     },
     "metadata": {
      "needs_background": "light"
     },
     "output_type": "display_data"
    }
   ],
   "source": [
    "count_chart = count_makers.plot(kind='bar',figsize=(20,5))\n",
    "count_chart.set_xlabel(\"Crime Type\")\n",
    "count_chart.set_ylabel(\"Crime Count\")\n",
    "plt.title(\"DET crime by Type\")\n",
    "plt.show()\n"
   ]
  },
  {
   "cell_type": "code",
   "execution_count": 14,
   "metadata": {},
   "outputs": [
    {
     "data": {
      "text/plain": [
       "Weather_Type\n",
       "Clear           55371\n",
       "Clouds          37737\n",
       "Drizzle           359\n",
       "Fog              1657\n",
       "Haze             3848\n",
       "Mist            10859\n",
       "Rain            18685\n",
       "Smoke             359\n",
       "Snow             2831\n",
       "Thunderstorm      347\n",
       "Name: Weather_Type, dtype: int64"
      ]
     },
     "execution_count": 14,
     "metadata": {},
     "output_type": "execute_result"
    }
   ],
   "source": [
    "maker_group_date = weather_df.groupby('Weather_Type')\n",
    "\n",
    "# Count how many times each maker appears in our group\n",
    "count_makers_date = maker_group_date['Weather_Type'].count()\n",
    "\n",
    "count_makers_date"
   ]
  },
  {
   "cell_type": "code",
   "execution_count": 15,
   "metadata": {},
   "outputs": [
    {
     "data": {
      "image/png": "[encoded data removed]",
      "text/plain": [
       "<Figure size 720x360 with 1 Axes>"
      ]
     },
     "metadata": {
      "needs_background": "light"
     },
     "output_type": "display_data"
    }
   ],
   "source": [
    "count_chart_2 = count_makers_date.plot(kind='bar',figsize=(10,5))\n",
    "count_chart.set_xlabel(\"Weather Type\")\n",
    "count_chart.set_ylabel(\"Weather Count\")\n",
    "plt.title(\"DET crime by Weather\")\n",
    "plt.show()"
   ]
  },
  {
   "cell_type": "code",
   "execution_count": 16,
   "metadata": {},
   "outputs": [
    {
     "data": {
      "text/plain": [
       "Unix Date\n",
       "1388552400    456\n",
       "1388638800    261\n",
       "1388725200    313\n",
       "1388811600    328\n",
       "1388898000    241\n",
       "Name: Unix Date, dtype: int64"
      ]
     },
     "execution_count": 16,
     "metadata": {},
     "output_type": "execute_result"
    }
   ],
   "source": [
    "maker_group_2 = weather_df.groupby('Unix Date')\n",
    "\n",
    "# Count how many times each maker appears in our group\n",
    "count_makers_2 = maker_group_2['Unix Date'].count()\n",
    "\n",
    "count_makers_2.head()"
   ]
  },
  {
   "cell_type": "code",
   "execution_count": 17,
   "metadata": {},
   "outputs": [
    {
     "name": "stdout",
     "output_type": "stream",
     "text": [
      "<pandas.core.groupby.groupby.DataFrameGroupBy object at 0x1248b0cf8>\n"
     ]
    }
   ],
   "source": [
    "wind_group_5 = weather_df.groupby('Wind_Speed')\n",
    "\n",
    "# Count how many times each maker appears in our group\n",
    "count_wind_5 = wind_group_5['Wind_Speed'].count()\n",
    "\n",
    "count_wind_5.sort_values(ascending=False, na_position='first')\n",
    "                         \n",
    "print(wind_group_5)"
   ]
  },
  {
   "cell_type": "code",
   "execution_count": 18,
   "metadata": {},
   "outputs": [
    {
     "data": {
      "image/png": "[encoded data removed]",
      "text/plain": [
       "<Figure size 432x288 with 1 Axes>"
      ]
     },
     "metadata": {
      "needs_background": "light"
     },
     "output_type": "display_data"
    }
   ],
   "source": [
    "wind_chart_5 = count_wind_5.plot.line()\n",
    "wind_chart_5.set_xlabel(\"Wind Speed\")\n",
    "wind_chart_5.set_ylabel(\"Crime Level\")\n",
    "plt.title(\"DET Crime Levels by Wind\")\n",
    "# Sets the x limits of the current chart\n",
    "#plt.xlim(-0.75, len(x_axis)-0.25)\n",
    "plt.show()"
   ]
  },
  {
   "cell_type": "code",
   "execution_count": 19,
   "metadata": {},
   "outputs": [
    {
     "name": "stdout",
     "output_type": "stream",
     "text": [
      "<pandas.core.groupby.groupby.DataFrameGroupBy object at 0x1248294e0>\n"
     ]
    }
   ],
   "source": [
    "temp_group_5 = weather_df.groupby('Temp_Max_Fahrenheit')\n",
    "\n",
    "# Count how many times each maker appears in our group\n",
    "count_temp_5 = temp_group_5['Temp_Max_Fahrenheit'].count()\n",
    "\n",
    "count_temp_5.sort_values(ascending=False, na_position='first')\n",
    "                         \n",
    "print(temp_group_5)"
   ]
  },
  {
   "cell_type": "code",
   "execution_count": 20,
   "metadata": {},
   "outputs": [
    {
     "data": {
      "image/png": "[encoded data removed]",
      "text/plain": [
       "<Figure size 432x288 with 1 Axes>"
      ]
     },
     "metadata": {
      "needs_background": "light"
     },
     "output_type": "display_data"
    }
   ],
   "source": [
    "temp_chart_5 = count_temp_5.plot.line()\n",
    "temp_chart_5.set_xlabel(\"Temp\")\n",
    "temp_chart_5.set_ylabel(\"Crime Level\")\n",
    "plt.title(\"DET Crime Levels by Temp\")\n",
    "# Sets the x limits of the current chart\n",
    "#plt.xlim(-0.75, len(x_axis)-0.25)\n",
    "plt.show()"
   ]
  }
 ],
 "metadata": {
  "kernelspec": {
   "display_name": "Python 3",
   "language": "python",
   "name": "python3"
  },
  "language_info": {
   "codemirror_mode": {
    "name": "ipython",
    "version": 3
   },
   "file_extension": ".py",
   "mimetype": "text/x-python",
   "name": "python",
   "nbconvert_exporter": "python",
   "pygments_lexer": "ipython3",
   "version": "3.6.6"
  }
 },
 "nbformat": 4,
 "nbformat_minor": 2
}
