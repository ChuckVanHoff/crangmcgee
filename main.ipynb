{
 "cells": [
  {
   "cell_type": "code",
   "execution_count": 1,
   "metadata": {},
   "outputs": [
    {
     "name": "stdout",
     "output_type": "stream",
     "text": [
      "200\n",
      "200\n"
     ]
    }
   ],
   "source": [
    "# Dependencies and Setup\n",
    "import matplotlib.pyplot as plt\n",
    "import pandas as pd\n",
    "import numpy as np\n",
    "import requests\n",
    "import time\n",
    "import json\n",
    "import os\n",
    "import csv\n",
    "import datetime\n",
    "import moment\n",
    "\n",
    "# import api key\n",
    "from config import api_key\n",
    "   \n",
    "# Weather URL\n",
    "#History weather bulk for Detroit from January 01, 2014 to December 31, 2018\n",
    "weather_url = \"http://history.openweathermap.org//storage/dc1e5df660e33aec203660c9b2000bc3.json\"\n",
    "solunar_url = \"https://api.solunar.org/solunar/latitude,longitude,date,tz\"\n",
    "#https://api.solunar.org/solunar/42.66,-84.07,20180207,-4\n",
    "\n",
    "# make request and store response\n",
    "response = requests.get(weather_url)\n",
    "response_2 = requests.get(solunar_url)\n",
    "\n",
    "# print status code\n",
    "print(response.status_code)\n",
    "print(response_2.status_code)"
   ]
  },
  {
   "cell_type": "code",
   "execution_count": 2,
   "metadata": {},
   "outputs": [],
   "source": [
    "#JSONify response\n",
    "response_json = response.json()\n",
    "response_2_json = response_2.json()"
   ]
  },
  {
   "cell_type": "code",
   "execution_count": 3,
   "metadata": {},
   "outputs": [
    {
     "name": "stdout",
     "output_type": "stream",
     "text": [
      "The first response is {\n",
      "    \"city_id\": 4990729,\n",
      "    \"main\": {\n",
      "        \"temp\": 265.33,\n",
      "        \"temp_min\": 263.71,\n",
      "        \"temp_max\": 266.48,\n",
      "        \"pressure\": 1025,\n",
      "        \"humidity\": 61\n",
      "    },\n",
      "    \"wind\": {\n",
      "        \"speed\": 5,\n",
      "        \"deg\": 250\n",
      "    },\n",
      "    \"clouds\": {\n",
      "        \"all\": 90\n",
      "    },\n",
      "    \"weather\": [\n",
      "        {\n",
      "            \"id\": 804,\n",
      "            \"main\": \"Clouds\",\n",
      "            \"description\": \"overcast clouds\",\n",
      "            \"icon\": \"04\"\n",
      "        }\n",
      "    ],\n",
      "    \"dt\": 1388534400,\n",
      "    \"dt_iso\": \"2014-01-01 00:00:00 +0000 UTC\"\n",
      "}.\n"
     ]
    }
   ],
   "source": [
    "# print first article\n",
    "print(f\"The first response is {json.dumps(response_json[0], indent=4)}.\")"
   ]
  },
  {
   "cell_type": "code",
   "execution_count": 4,
   "metadata": {},
   "outputs": [
    {
     "name": "stdout",
     "output_type": "stream",
     "text": [
      "We received 33454 responses.\n"
     ]
    }
   ],
   "source": [
    "# count of responses\n",
    "print(f\"We received {len(response_json)} responses.\") "
   ]
  },
  {
   "cell_type": "code",
   "execution_count": 5,
   "metadata": {
    "scrolled": true
   },
   "outputs": [
    {
     "name": "stdout",
     "output_type": "stream",
     "text": [
      "<_csv.reader object at 0x000001BCC785A180>\n"
     ]
    },
    {
     "data": {
      "text/html": [
       "<div>\n",
       "<style scoped>\n",
       "    .dataframe tbody tr th:only-of-type {\n",
       "        vertical-align: middle;\n",
       "    }\n",
       "\n",
       "    .dataframe tbody tr th {\n",
       "        vertical-align: top;\n",
       "    }\n",
       "\n",
       "    .dataframe thead th {\n",
       "        text-align: right;\n",
       "    }\n",
       "</style>\n",
       "<table border=\"1\" class=\"dataframe\">\n",
       "  <thead>\n",
       "    <tr style=\"text-align: right;\">\n",
       "      <th></th>\n",
       "      <th>Location</th>\n",
       "      <th>Offense</th>\n",
       "      <th>Date</th>\n",
       "      <th>Unix Date</th>\n",
       "    </tr>\n",
       "  </thead>\n",
       "  <tbody>\n",
       "    <tr>\n",
       "      <th>0</th>\n",
       "      <td>(42.4224, -82.986)</td>\n",
       "      <td>LARCENY: LARCENY (OTHER)</td>\n",
       "      <td>01/02/2014</td>\n",
       "      <td>1388638800</td>\n",
       "    </tr>\n",
       "    <tr>\n",
       "      <th>1</th>\n",
       "      <td>(42.386, -83.2736)</td>\n",
       "      <td>ESCAPE: FUGITIVE</td>\n",
       "      <td>01/03/2014</td>\n",
       "      <td>1388725200</td>\n",
       "    </tr>\n",
       "    <tr>\n",
       "      <th>2</th>\n",
       "      <td>(42.4424, -83.0719)</td>\n",
       "      <td>ASSAULT: INTIMIDATION</td>\n",
       "      <td>01/04/2014</td>\n",
       "      <td>1388811600</td>\n",
       "    </tr>\n",
       "    <tr>\n",
       "      <th>3</th>\n",
       "      <td>(42.3373, -83.1961)</td>\n",
       "      <td>LARCENY: LARCENY (OTHER)</td>\n",
       "      <td>01/04/2014</td>\n",
       "      <td>1388811600</td>\n",
       "    </tr>\n",
       "    <tr>\n",
       "      <th>4</th>\n",
       "      <td>(42.3314, -83.1239)</td>\n",
       "      <td>LARCENY: LARCENY (OTHER)</td>\n",
       "      <td>01/06/2014</td>\n",
       "      <td>1388984400</td>\n",
       "    </tr>\n",
       "  </tbody>\n",
       "</table>\n",
       "</div>"
      ],
      "text/plain": [
       "              Location                   Offense        Date   Unix Date\n",
       "0   (42.4224, -82.986)  LARCENY: LARCENY (OTHER)  01/02/2014  1388638800\n",
       "1   (42.386, -83.2736)          ESCAPE: FUGITIVE  01/03/2014  1388725200\n",
       "2  (42.4424, -83.0719)     ASSAULT: INTIMIDATION  01/04/2014  1388811600\n",
       "3  (42.3373, -83.1961)  LARCENY: LARCENY (OTHER)  01/04/2014  1388811600\n",
       "4  (42.3314, -83.1239)  LARCENY: LARCENY (OTHER)  01/06/2014  1388984400"
      ]
     },
     "execution_count": 5,
     "metadata": {},
     "output_type": "execute_result"
    }
   ],
   "source": [
    "# reference to CSV file\n",
    "DET_csv = os.path.join(\"City Data\",\"Detroit\",\"detroit_data_fixed.csv\")\n",
    "\n",
    "with open(DET_csv, newline='') as csvfile:\n",
    "    csvreader = csv.reader(csvfile, delimiter=\",\")\n",
    "    print(csvreader)\n",
    "\n",
    "DET_crime_df = pd.read_csv(DET_csv)\n",
    "DET_crime_df.head()\n"
   ]
  },
  {
   "cell_type": "code",
   "execution_count": 6,
   "metadata": {},
   "outputs": [
    {
     "data": {
      "text/html": [
       "<div>\n",
       "<style scoped>\n",
       "    .dataframe tbody tr th:only-of-type {\n",
       "        vertical-align: middle;\n",
       "    }\n",
       "\n",
       "    .dataframe tbody tr th {\n",
       "        vertical-align: top;\n",
       "    }\n",
       "\n",
       "    .dataframe thead th {\n",
       "        text-align: right;\n",
       "    }\n",
       "</style>\n",
       "<table border=\"1\" class=\"dataframe\">\n",
       "  <thead>\n",
       "    <tr style=\"text-align: right;\">\n",
       "      <th></th>\n",
       "      <th>Location</th>\n",
       "      <th>Offense</th>\n",
       "      <th>Date</th>\n",
       "      <th>Unix Date</th>\n",
       "      <th>Temp_Max</th>\n",
       "      <th>Wind_Speed</th>\n",
       "      <th>Weather_Type</th>\n",
       "    </tr>\n",
       "  </thead>\n",
       "  <tbody>\n",
       "    <tr>\n",
       "      <th>0</th>\n",
       "      <td>(42.4224, -82.986)</td>\n",
       "      <td>LARCENY: LARCENY (OTHER)</td>\n",
       "      <td>01/02/2014</td>\n",
       "      <td>1388638800</td>\n",
       "      <td></td>\n",
       "      <td></td>\n",
       "      <td></td>\n",
       "    </tr>\n",
       "    <tr>\n",
       "      <th>1</th>\n",
       "      <td>(42.386, -83.2736)</td>\n",
       "      <td>ESCAPE: FUGITIVE</td>\n",
       "      <td>01/03/2014</td>\n",
       "      <td>1388725200</td>\n",
       "      <td></td>\n",
       "      <td></td>\n",
       "      <td></td>\n",
       "    </tr>\n",
       "    <tr>\n",
       "      <th>2</th>\n",
       "      <td>(42.4424, -83.0719)</td>\n",
       "      <td>ASSAULT: INTIMIDATION</td>\n",
       "      <td>01/04/2014</td>\n",
       "      <td>1388811600</td>\n",
       "      <td></td>\n",
       "      <td></td>\n",
       "      <td></td>\n",
       "    </tr>\n",
       "    <tr>\n",
       "      <th>3</th>\n",
       "      <td>(42.3373, -83.1961)</td>\n",
       "      <td>LARCENY: LARCENY (OTHER)</td>\n",
       "      <td>01/04/2014</td>\n",
       "      <td>1388811600</td>\n",
       "      <td></td>\n",
       "      <td></td>\n",
       "      <td></td>\n",
       "    </tr>\n",
       "    <tr>\n",
       "      <th>4</th>\n",
       "      <td>(42.3314, -83.1239)</td>\n",
       "      <td>LARCENY: LARCENY (OTHER)</td>\n",
       "      <td>01/06/2014</td>\n",
       "      <td>1388984400</td>\n",
       "      <td></td>\n",
       "      <td></td>\n",
       "      <td></td>\n",
       "    </tr>\n",
       "  </tbody>\n",
       "</table>\n",
       "</div>"
      ],
      "text/plain": [
       "              Location                   Offense        Date   Unix Date  \\\n",
       "0   (42.4224, -82.986)  LARCENY: LARCENY (OTHER)  01/02/2014  1388638800   \n",
       "1   (42.386, -83.2736)          ESCAPE: FUGITIVE  01/03/2014  1388725200   \n",
       "2  (42.4424, -83.0719)     ASSAULT: INTIMIDATION  01/04/2014  1388811600   \n",
       "3  (42.3373, -83.1961)  LARCENY: LARCENY (OTHER)  01/04/2014  1388811600   \n",
       "4  (42.3314, -83.1239)  LARCENY: LARCENY (OTHER)  01/06/2014  1388984400   \n",
       "\n",
       "  Temp_Max Wind_Speed Weather_Type  \n",
       "0                                   \n",
       "1                                   \n",
       "2                                   \n",
       "3                                   \n",
       "4                                   "
      ]
     },
     "execution_count": 6,
     "metadata": {},
     "output_type": "execute_result"
    }
   ],
   "source": [
    "DET_crime_df[\"Temp_Max\"] = \"\"\n",
    "DET_crime_df[\"Wind_Speed\"] = \"\"\n",
    "DET_crime_df[\"Weather_Type\"] = \"\"\n",
    "DET_crime_df.head()"
   ]
  },
  {
   "cell_type": "code",
   "execution_count": 15,
   "metadata": {},
   "outputs": [],
   "source": [
    "# create a params dict that will be updated with weather data each iteration\n",
    "params = {\"key\": api_key}\n",
    "weather_url = \"http://history.openweathermap.org//storage/dc1e5df660e33aec203660c9b2000bc3.json\"\n"
   ]
  },
  {
   "cell_type": "code",
   "execution_count": 16,
   "metadata": {
    "scrolled": true
   },
   "outputs": [
    {
     "ename": "TypeError",
     "evalue": "list indices must be integers or slices, not str",
     "output_type": "error",
     "traceback": [
      "\u001b[1;31m---------------------------------------------------------------------------\u001b[0m",
      "\u001b[1;31mTypeError\u001b[0m                                 Traceback (most recent call last)",
      "\u001b[1;32m<ipython-input-16-c1e47175f59e>\u001b[0m in \u001b[0;36m<module>\u001b[1;34m()\u001b[0m\n\u001b[0;32m     10\u001b[0m \u001b[1;33m\u001b[0m\u001b[0m\n\u001b[0;32m     11\u001b[0m     \u001b[1;31m# convert to json\u001b[0m\u001b[1;33m\u001b[0m\u001b[1;33m\u001b[0m\u001b[0m\n\u001b[1;32m---> 12\u001b[1;33m     \u001b[0mresponse_json\u001b[0m \u001b[1;33m=\u001b[0m \u001b[0mresponse\u001b[0m\u001b[1;33m[\u001b[0m\u001b[1;34m\"response_json\"\u001b[0m\u001b[1;33m]\u001b[0m\u001b[1;33m\u001b[0m\u001b[0m\n\u001b[0m\u001b[0;32m     13\u001b[0m \u001b[1;33m\u001b[0m\u001b[0m\n\u001b[0;32m     14\u001b[0m     \u001b[1;31m# Since some data may be missing we incorporate a try-except to skip any that are missing a data point.\u001b[0m\u001b[1;33m\u001b[0m\u001b[1;33m\u001b[0m\u001b[0m\n",
      "\u001b[1;31mTypeError\u001b[0m: list indices must be integers or slices, not str"
     ]
    }
   ],
   "source": [
    "# Use unix date to identify weather\n",
    "for index, row in DET_crime_df.iterrows():\n",
    "    unix_date = row[\"Unix Date\"]\n",
    "\n",
    "    # change date each iteration while leaving original params in place\n",
    "    params[\"keyword\"] = unix_date\n",
    "\n",
    "    # make request\n",
    "    response = requests.get(weather_url, params=params).json()\n",
    "\n",
    "    # convert to json\n",
    "    response_json = response[\"response_json\"]\n",
    "\n",
    "    # Since some data may be missing we incorporate a try-except to skip any that are missing a data point.\n",
    "    try:\n",
    "        DET_crime_df.loc[index,\"Temp_Max\"] = response_json[\"main\"][\"temp_max\"]\n",
    "        #DET_crime_df.loc[index, \"Wind_Speed\"] = response_json[\"wind\"][\"speed\"]\n",
    "        #DET_crime_df.loc[index, \"Weather_Type\"] = response_json[\"weather\"][0][\"main\"]\n",
    "    except (KeyError, IndexError):\n",
    "        print(\"Missing field/result... skipping.\")\n",
    "        \n",
    "    "
   ]
  },
  {
   "cell_type": "code",
   "execution_count": 15,
   "metadata": {},
   "outputs": [],
   "source": [
    "\n"
   ]
  },
  {
   "cell_type": "code",
   "execution_count": 16,
   "metadata": {},
   "outputs": [],
   "source": []
  },
  {
   "cell_type": "code",
   "execution_count": null,
   "metadata": {},
   "outputs": [],
   "source": []
  },
  {
   "cell_type": "code",
   "execution_count": null,
   "metadata": {},
   "outputs": [],
   "source": []
  }
 ],
 "metadata": {
  "kernelspec": {
   "display_name": "Python 3",
   "language": "python",
   "name": "python3"
  },
  "language_info": {
   "codemirror_mode": {
    "name": "ipython",
    "version": 3
   },
   "file_extension": ".py",
   "mimetype": "text/x-python",
   "name": "python",
   "nbconvert_exporter": "python",
   "pygments_lexer": "ipython3",
   "version": "3.6.6"
  }
 },
 "nbformat": 4,
 "nbformat_minor": 2
}
