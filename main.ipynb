{
 "cells": [
  {
   "cell_type": "code",
   "execution_count": 3,
   "metadata": {},
   "outputs": [
    {
     "name": "stdout",
     "output_type": "stream",
     "text": [
      "200\n",
      "200\n",
      "200\n"
     ]
    }
   ],
   "source": [
    "# Dependencies and Setup\n",
    "import matplotlib.pyplot as plt\n",
    "import pandas as pd\n",
    "import numpy as np\n",
    "import requests\n",
    "import time\n",
    "import json\n",
    "import os\n",
    "import csv\n",
    "\n",
    "# import api key\n",
    "from config import api_key\n",
    "   \n",
    "# Weather URL\n",
    "weather_url = \"http://history.openweathermap.org//storage/dc1e5df660e33aec203660c9b2000bc3.json\"\n",
    "la_weather_url=\"http://history.openweathermap.org//storage/f243e4f97e2e5fbb156c89392ae703e9.json\"\n",
    "solunar_url = \"https://api.solunar.org/solunar/latitude,longitude,date,tz\"\n",
    "#https://api.solunar.org/solunar/42.66,-84.07,20180207,-4\n",
    "\n",
    "# make request and store response\n",
    "response = requests.get(weather_url)\n",
    "response_2 = requests.get(solunar_url)\n",
    "response_3 =requests.get(la_weather_url)\n",
    "\n",
    "# print status code\n",
    "print(response.status_code)\n",
    "print(response_2.status_code)\n",
    "print(response_3.status_code)"
   ]
  },
  {
   "cell_type": "code",
   "execution_count": 4,
   "metadata": {},
   "outputs": [],
   "source": [
    "#JSONify response\n",
    "response_json = response.json()\n",
    "response_2_json = response_2.json()\n",
    "response_3_json = response_3.json()"
   ]
  },
  {
   "cell_type": "code",
   "execution_count": 5,
   "metadata": {},
   "outputs": [
    {
     "name": "stdout",
     "output_type": "stream",
     "text": [
      "The first response is {\n",
      "    \"city_id\": 4990729,\n",
      "    \"main\": {\n",
      "        \"temp\": 265.33,\n",
      "        \"temp_min\": 263.71,\n",
      "        \"temp_max\": 266.48,\n",
      "        \"pressure\": 1025,\n",
      "        \"humidity\": 61\n",
      "    },\n",
      "    \"wind\": {\n",
      "        \"speed\": 5,\n",
      "        \"deg\": 250\n",
      "    },\n",
      "    \"clouds\": {\n",
      "        \"all\": 90\n",
      "    },\n",
      "    \"weather\": [\n",
      "        {\n",
      "            \"id\": 804,\n",
      "            \"main\": \"Clouds\",\n",
      "            \"description\": \"overcast clouds\",\n",
      "            \"icon\": \"04\"\n",
      "        }\n",
      "    ],\n",
      "    \"dt\": 1388534400,\n",
      "    \"dt_iso\": \"2014-01-01 00:00:00 +0000 UTC\"\n",
      "}.\n"
     ]
    }
   ],
   "source": [
    "# print first article\n",
    "print(f\"The first response is {json.dumps(response_json[0], indent=4)}.\")"
   ]
  },
  {
   "cell_type": "code",
   "execution_count": 6,
   "metadata": {},
   "outputs": [
    {
     "name": "stdout",
     "output_type": "stream",
     "text": [
      "We received 33454 responses.\n"
     ]
    }
   ],
   "source": [
    "# count of responses\n",
    "print(f\"We received {len(response_json)} responses.\") "
   ]
  },
  {
   "cell_type": "code",
   "execution_count": null,
   "metadata": {},
   "outputs": [],
   "source": [
    "# reference to CSV file\n",
    "ATL_csvpath = os.path.join('..','crangmcgee','atl_crime_2010_through_2015.csv')\n",
    "#ATL_csvpath = \"atl_crime_2010_through_2015.csv\"\n",
    "\n",
    "with open(ATL_csvpath, newline='') as csvfile:\n",
    "    csvreader = csv.reader(csvfile, delimiter=',')\n",
    "    print(csvreader)\n",
    "\n",
    "ATL_crime_df = pd.read_csv(ATL_csvpath)\n",
    "ATL_crime_df.head()\n",
    "#ATL_crime_df.count()"
   ]
  },
  {
   "cell_type": "code",
   "execution_count": null,
   "metadata": {},
   "outputs": [],
   "source": []
  },
  {
   "cell_type": "code",
   "execution_count": null,
   "metadata": {},
   "outputs": [],
   "source": []
  },
  {
   "cell_type": "code",
   "execution_count": null,
   "metadata": {},
   "outputs": [],
   "source": []
  }
 ],
 "metadata": {
  "kernelspec": {
   "display_name": "Python 3",
   "language": "python",
   "name": "python3"
  },
  "language_info": {
   "codemirror_mode": {
    "name": "ipython",
    "version": 3
   },
   "file_extension": ".py",
   "mimetype": "text/x-python",
   "name": "python",
   "nbconvert_exporter": "python",
   "pygments_lexer": "ipython3",
   "version": "3.7.0"
  }
 },
 "nbformat": 4,
 "nbformat_minor": 2
}
