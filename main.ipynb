{
 "cells": [
  {
   "cell_type": "code",
   "execution_count": 1,
   "metadata": {},
   "outputs": [
    {
     "name": "stdout",
     "output_type": "stream",
     "text": [
      "200\n",
      "200\n"
     ]
    }
   ],
   "source": [
    "# Dependencies and Setup\n",
    "import matplotlib.pyplot as plt\n",
    "import pandas as pd\n",
    "import numpy as np\n",
    "import requests\n",
    "import time\n",
    "import json\n",
    "import os\n",
    "import csv\n",
    "import datetime\n",
    "import moment\n",
    "\n",
    "# import api key\n",
    "from config import api_key\n",
    "   \n",
    "# Weather URL\n",
    "weather_url = \"http://history.openweathermap.org//storage/dc1e5df660e33aec203660c9b2000bc3.json\"\n",
    "solunar_url = \"https://api.solunar.org/solunar/latitude,longitude,date,tz\"\n",
    "#https://api.solunar.org/solunar/42.66,-84.07,20180207,-4\n",
    "\n",
    "# make request and store response\n",
    "response = requests.get(weather_url)\n",
    "response_2 = requests.get(solunar_url)\n",
    "\n",
    "# print status code\n",
    "print(response.status_code)\n",
    "print(response_2.status_code)"
   ]
  },
  {
   "cell_type": "code",
   "execution_count": 2,
   "metadata": {},
   "outputs": [],
   "source": [
    "#JSONify response\n",
    "response_json = response.json()\n",
    "response_2_json = response_2.json()"
   ]
  },
  {
   "cell_type": "code",
   "execution_count": 3,
   "metadata": {},
   "outputs": [
    {
     "name": "stdout",
     "output_type": "stream",
     "text": [
      "The first response is {\n",
      "    \"city_id\": 4990729,\n",
      "    \"main\": {\n",
      "        \"temp\": 265.33,\n",
      "        \"temp_min\": 263.71,\n",
      "        \"temp_max\": 266.48,\n",
      "        \"pressure\": 1025,\n",
      "        \"humidity\": 61\n",
      "    },\n",
      "    \"wind\": {\n",
      "        \"speed\": 5,\n",
      "        \"deg\": 250\n",
      "    },\n",
      "    \"clouds\": {\n",
      "        \"all\": 90\n",
      "    },\n",
      "    \"weather\": [\n",
      "        {\n",
      "            \"id\": 804,\n",
      "            \"main\": \"Clouds\",\n",
      "            \"description\": \"overcast clouds\",\n",
      "            \"icon\": \"04\"\n",
      "        }\n",
      "    ],\n",
      "    \"dt\": 1388534400,\n",
      "    \"dt_iso\": \"2014-01-01 00:00:00 +0000 UTC\"\n",
      "}.\n"
     ]
    }
   ],
   "source": [
    "# print first article\n",
    "print(f\"The first response is {json.dumps(response_json[0], indent=4)}.\")"
   ]
  },
  {
   "cell_type": "code",
   "execution_count": 4,
   "metadata": {},
   "outputs": [
    {
     "name": "stdout",
     "output_type": "stream",
     "text": [
      "We received 33454 responses.\n"
     ]
    }
   ],
   "source": [
    "# count of responses\n",
    "print(f\"We received {len(response_json)} responses.\") "
   ]
  },
  {
   "cell_type": "code",
   "execution_count": 5,
   "metadata": {
    "scrolled": true
   },
   "outputs": [
    {
     "name": "stdout",
     "output_type": "stream",
     "text": [
      "<_csv.reader object at 0x0000025A573FD3F0>\n"
     ]
    },
    {
     "data": {
      "text/plain": [
       "crime           197924\n",
       "number          197924\n",
       "date            197924\n",
       "day             197924\n",
       "month           197924\n",
       "year            197924\n",
       "beat            197921\n",
       "neighborhood    189214\n",
       "npu             196352\n",
       "lat             197924\n",
       "long            197924\n",
       "dtype: int64"
      ]
     },
     "execution_count": 5,
     "metadata": {},
     "output_type": "execute_result"
    }
   ],
   "source": [
    "# reference to CSV file\n",
    "ATL_csvpath = os.path.join('..','crangmcgee','atl_crime_2010_through_2015.csv')\n",
    "#ATL_csvpath = \"atl_crime_2010_through_2015.csv\"\n",
    "\n",
    "with open(ATL_csvpath, newline='') as csvfile:\n",
    "    csvreader = csv.reader(csvfile, delimiter=',')\n",
    "    print(csvreader)\n",
    "\n",
    "ATL_crime_df = pd.read_csv(ATL_csvpath)\n",
    "ATL_crime_df.head()\n",
    "ATL_crime_df.count()"
   ]
  },
  {
   "cell_type": "code",
   "execution_count": null,
   "metadata": {},
   "outputs": [],
   "source": []
  },
  {
   "cell_type": "code",
   "execution_count": null,
   "metadata": {},
   "outputs": [],
   "source": []
  },
  {
   "cell_type": "code",
   "execution_count": 6,
   "metadata": {},
   "outputs": [
    {
     "data": {
      "text/plain": [
       "0    1262322000\n",
       "1    1262322000\n",
       "2    1262322000\n",
       "3    1262322000\n",
       "4    1262322000\n",
       "Name: unixdate, dtype: int64"
      ]
     },
     "execution_count": 6,
     "metadata": {},
     "output_type": "execute_result"
    }
   ],
   "source": [
    "ATL_crime_df[\"unixdate\"] = ATL_crime_df[\"date\"].map(lambda x:datetime.datetime.strptime(x, \"%m/%d/%Y\").timestamp())\n",
    "ATL_crime_df['unixdate'] = ATL_crime_df['unixdate'].apply('astype',dtype='int64')\n",
    "ATL_crime_df['unixdate'].head()"
   ]
  },
  {
   "cell_type": "code",
   "execution_count": 7,
   "metadata": {},
   "outputs": [
    {
     "data": {
      "text/html": [
       "<div>\n",
       "<style scoped>\n",
       "    .dataframe tbody tr th:only-of-type {\n",
       "        vertical-align: middle;\n",
       "    }\n",
       "\n",
       "    .dataframe tbody tr th {\n",
       "        vertical-align: top;\n",
       "    }\n",
       "\n",
       "    .dataframe thead th {\n",
       "        text-align: right;\n",
       "    }\n",
       "</style>\n",
       "<table border=\"1\" class=\"dataframe\">\n",
       "  <thead>\n",
       "    <tr style=\"text-align: right;\">\n",
       "      <th></th>\n",
       "      <th>crime</th>\n",
       "      <th>number</th>\n",
       "      <th>date</th>\n",
       "      <th>day</th>\n",
       "      <th>month</th>\n",
       "      <th>year</th>\n",
       "      <th>beat</th>\n",
       "      <th>neighborhood</th>\n",
       "      <th>npu</th>\n",
       "      <th>lat</th>\n",
       "      <th>long</th>\n",
       "      <th>unixdate</th>\n",
       "    </tr>\n",
       "  </thead>\n",
       "  <tbody>\n",
       "    <tr>\n",
       "      <th>0</th>\n",
       "      <td>BURGLARY-RESIDENCE</td>\n",
       "      <td>100010792.0</td>\n",
       "      <td>1/1/2010</td>\n",
       "      <td>1</td>\n",
       "      <td>1</td>\n",
       "      <td>2010</td>\n",
       "      <td>102.0</td>\n",
       "      <td>Vine City</td>\n",
       "      <td>L</td>\n",
       "      <td>33.75823</td>\n",
       "      <td>-84.41384</td>\n",
       "      <td>1262322000</td>\n",
       "    </tr>\n",
       "    <tr>\n",
       "      <th>1</th>\n",
       "      <td>AGG ASSAULT</td>\n",
       "      <td>100010639.0</td>\n",
       "      <td>1/1/2010</td>\n",
       "      <td>1</td>\n",
       "      <td>1</td>\n",
       "      <td>2010</td>\n",
       "      <td>106.0</td>\n",
       "      <td>Bankhead</td>\n",
       "      <td>K</td>\n",
       "      <td>33.76412</td>\n",
       "      <td>-84.42370</td>\n",
       "      <td>1262322000</td>\n",
       "    </tr>\n",
       "    <tr>\n",
       "      <th>2</th>\n",
       "      <td>LARCENY-FROM VEHICLE</td>\n",
       "      <td>100010545.0</td>\n",
       "      <td>1/1/2010</td>\n",
       "      <td>1</td>\n",
       "      <td>1</td>\n",
       "      <td>2010</td>\n",
       "      <td>110.0</td>\n",
       "      <td>West Highlands</td>\n",
       "      <td>G</td>\n",
       "      <td>33.79172</td>\n",
       "      <td>-84.44385</td>\n",
       "      <td>1262322000</td>\n",
       "    </tr>\n",
       "    <tr>\n",
       "      <th>3</th>\n",
       "      <td>LARCENY-NON VEHICLE</td>\n",
       "      <td>100011076.0</td>\n",
       "      <td>1/1/2010</td>\n",
       "      <td>1</td>\n",
       "      <td>1</td>\n",
       "      <td>2010</td>\n",
       "      <td>110.0</td>\n",
       "      <td>West Highlands</td>\n",
       "      <td>G</td>\n",
       "      <td>33.79477</td>\n",
       "      <td>-84.46936</td>\n",
       "      <td>1262322000</td>\n",
       "    </tr>\n",
       "    <tr>\n",
       "      <th>4</th>\n",
       "      <td>AGG ASSAULT</td>\n",
       "      <td>100010677.0</td>\n",
       "      <td>1/1/2010</td>\n",
       "      <td>1</td>\n",
       "      <td>1</td>\n",
       "      <td>2010</td>\n",
       "      <td>112.0</td>\n",
       "      <td>Collier Heights</td>\n",
       "      <td>I</td>\n",
       "      <td>33.77151</td>\n",
       "      <td>-84.47866</td>\n",
       "      <td>1262322000</td>\n",
       "    </tr>\n",
       "  </tbody>\n",
       "</table>\n",
       "</div>"
      ],
      "text/plain": [
       "                  crime       number      date  day  month  year   beat  \\\n",
       "0    BURGLARY-RESIDENCE  100010792.0  1/1/2010    1      1  2010  102.0   \n",
       "1           AGG ASSAULT  100010639.0  1/1/2010    1      1  2010  106.0   \n",
       "2  LARCENY-FROM VEHICLE  100010545.0  1/1/2010    1      1  2010  110.0   \n",
       "3   LARCENY-NON VEHICLE  100011076.0  1/1/2010    1      1  2010  110.0   \n",
       "4           AGG ASSAULT  100010677.0  1/1/2010    1      1  2010  112.0   \n",
       "\n",
       "      neighborhood npu       lat      long    unixdate  \n",
       "0        Vine City   L  33.75823 -84.41384  1262322000  \n",
       "1         Bankhead   K  33.76412 -84.42370  1262322000  \n",
       "2   West Highlands   G  33.79172 -84.44385  1262322000  \n",
       "3   West Highlands   G  33.79477 -84.46936  1262322000  \n",
       "4  Collier Heights   I  33.77151 -84.47866  1262322000  "
      ]
     },
     "execution_count": 7,
     "metadata": {},
     "output_type": "execute_result"
    }
   ],
   "source": [
    "ATL_crime_df.head()\n"
   ]
  },
  {
   "cell_type": "code",
   "execution_count": null,
   "metadata": {},
   "outputs": [],
   "source": []
  },
  {
   "cell_type": "code",
   "execution_count": null,
   "metadata": {},
   "outputs": [],
   "source": []
  },
  {
   "cell_type": "code",
   "execution_count": null,
   "metadata": {},
   "outputs": [],
   "source": []
  }
 ],
 "metadata": {
  "kernelspec": {
   "display_name": "Python 3",
   "language": "python",
   "name": "python3"
  },
  "language_info": {
   "codemirror_mode": {
    "name": "ipython",
    "version": 3
   },
   "file_extension": ".py",
   "mimetype": "text/x-python",
   "name": "python",
   "nbconvert_exporter": "python",
   "pygments_lexer": "ipython3",
   "version": "3.7.1"
  }
 },
 "nbformat": 4,
 "nbformat_minor": 2
}
